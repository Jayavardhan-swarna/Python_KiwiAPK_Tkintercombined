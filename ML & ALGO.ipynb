{
 "cells": [
  {
   "cell_type": "code",
   "execution_count": 1,
   "id": "a82928db",
   "metadata": {},
   "outputs": [
    {
     "name": "stdout",
     "output_type": "stream",
     "text": [
      "hello\n"
     ]
    }
   ],
   "source": [
    "print(\"hello\")"
   ]
  },
  {
   "cell_type": "code",
   "execution_count": 42,
   "id": "9e6ef8e0",
   "metadata": {},
   "outputs": [
    {
     "data": {
      "text/html": [
       "<div>\n",
       "<style scoped>\n",
       "    .dataframe tbody tr th:only-of-type {\n",
       "        vertical-align: middle;\n",
       "    }\n",
       "\n",
       "    .dataframe tbody tr th {\n",
       "        vertical-align: top;\n",
       "    }\n",
       "\n",
       "    .dataframe thead th {\n",
       "        text-align: right;\n",
       "    }\n",
       "</style>\n",
       "<table border=\"1\" class=\"dataframe\">\n",
       "  <thead>\n",
       "    <tr style=\"text-align: right;\">\n",
       "      <th></th>\n",
       "      <th>Survived</th>\n",
       "      <th>Pclass</th>\n",
       "      <th>Sex</th>\n",
       "      <th>Age</th>\n",
       "      <th>Siblings/Spouses</th>\n",
       "      <th>Parents/Children</th>\n",
       "      <th>Fare</th>\n",
       "    </tr>\n",
       "  </thead>\n",
       "  <tbody>\n",
       "    <tr>\n",
       "      <th>0</th>\n",
       "      <td>0</td>\n",
       "      <td>3</td>\n",
       "      <td>male</td>\n",
       "      <td>22.0</td>\n",
       "      <td>1</td>\n",
       "      <td>0</td>\n",
       "      <td>7.2500</td>\n",
       "    </tr>\n",
       "    <tr>\n",
       "      <th>1</th>\n",
       "      <td>1</td>\n",
       "      <td>1</td>\n",
       "      <td>female</td>\n",
       "      <td>38.0</td>\n",
       "      <td>1</td>\n",
       "      <td>0</td>\n",
       "      <td>71.2833</td>\n",
       "    </tr>\n",
       "    <tr>\n",
       "      <th>2</th>\n",
       "      <td>1</td>\n",
       "      <td>3</td>\n",
       "      <td>female</td>\n",
       "      <td>26.0</td>\n",
       "      <td>0</td>\n",
       "      <td>0</td>\n",
       "      <td>7.9250</td>\n",
       "    </tr>\n",
       "    <tr>\n",
       "      <th>3</th>\n",
       "      <td>1</td>\n",
       "      <td>1</td>\n",
       "      <td>female</td>\n",
       "      <td>35.0</td>\n",
       "      <td>1</td>\n",
       "      <td>0</td>\n",
       "      <td>53.1000</td>\n",
       "    </tr>\n",
       "    <tr>\n",
       "      <th>4</th>\n",
       "      <td>0</td>\n",
       "      <td>3</td>\n",
       "      <td>male</td>\n",
       "      <td>35.0</td>\n",
       "      <td>0</td>\n",
       "      <td>0</td>\n",
       "      <td>8.0500</td>\n",
       "    </tr>\n",
       "    <tr>\n",
       "      <th>5</th>\n",
       "      <td>0</td>\n",
       "      <td>3</td>\n",
       "      <td>male</td>\n",
       "      <td>27.0</td>\n",
       "      <td>0</td>\n",
       "      <td>0</td>\n",
       "      <td>8.4583</td>\n",
       "    </tr>\n",
       "    <tr>\n",
       "      <th>6</th>\n",
       "      <td>0</td>\n",
       "      <td>1</td>\n",
       "      <td>male</td>\n",
       "      <td>54.0</td>\n",
       "      <td>0</td>\n",
       "      <td>0</td>\n",
       "      <td>51.8625</td>\n",
       "    </tr>\n",
       "    <tr>\n",
       "      <th>7</th>\n",
       "      <td>0</td>\n",
       "      <td>3</td>\n",
       "      <td>male</td>\n",
       "      <td>2.0</td>\n",
       "      <td>3</td>\n",
       "      <td>1</td>\n",
       "      <td>21.0750</td>\n",
       "    </tr>\n",
       "  </tbody>\n",
       "</table>\n",
       "</div>"
      ],
      "text/plain": [
       "   Survived  Pclass     Sex   Age  Siblings/Spouses  Parents/Children     Fare\n",
       "0         0       3    male  22.0                 1                 0   7.2500\n",
       "1         1       1  female  38.0                 1                 0  71.2833\n",
       "2         1       3  female  26.0                 0                 0   7.9250\n",
       "3         1       1  female  35.0                 1                 0  53.1000\n",
       "4         0       3    male  35.0                 0                 0   8.0500\n",
       "5         0       3    male  27.0                 0                 0   8.4583\n",
       "6         0       1    male  54.0                 0                 0  51.8625\n",
       "7         0       3    male   2.0                 3                 1  21.0750"
      ]
     },
     "execution_count": 42,
     "metadata": {},
     "output_type": "execute_result"
    }
   ],
   "source": [
    "import pandas as pd\n",
    "df = pd.read_csv(\"D:\\\\Data\\\\titanic.csv\")\n",
    "df.head(8)"
   ]
  },
  {
   "cell_type": "code",
   "execution_count": 43,
   "id": "88162c71",
   "metadata": {},
   "outputs": [
    {
     "data": {
      "text/html": [
       "<div>\n",
       "<style scoped>\n",
       "    .dataframe tbody tr th:only-of-type {\n",
       "        vertical-align: middle;\n",
       "    }\n",
       "\n",
       "    .dataframe tbody tr th {\n",
       "        vertical-align: top;\n",
       "    }\n",
       "\n",
       "    .dataframe thead th {\n",
       "        text-align: right;\n",
       "    }\n",
       "</style>\n",
       "<table border=\"1\" class=\"dataframe\">\n",
       "  <thead>\n",
       "    <tr style=\"text-align: right;\">\n",
       "      <th></th>\n",
       "      <th>Survived</th>\n",
       "      <th>Pclass</th>\n",
       "      <th>Sex</th>\n",
       "      <th>Age</th>\n",
       "      <th>Siblings/Spouses</th>\n",
       "      <th>Parents/Children</th>\n",
       "      <th>Fare</th>\n",
       "      <th>male</th>\n",
       "    </tr>\n",
       "  </thead>\n",
       "  <tbody>\n",
       "    <tr>\n",
       "      <th>0</th>\n",
       "      <td>0</td>\n",
       "      <td>3</td>\n",
       "      <td>male</td>\n",
       "      <td>22.0</td>\n",
       "      <td>1</td>\n",
       "      <td>0</td>\n",
       "      <td>7.2500</td>\n",
       "      <td>True</td>\n",
       "    </tr>\n",
       "    <tr>\n",
       "      <th>1</th>\n",
       "      <td>1</td>\n",
       "      <td>1</td>\n",
       "      <td>female</td>\n",
       "      <td>38.0</td>\n",
       "      <td>1</td>\n",
       "      <td>0</td>\n",
       "      <td>71.2833</td>\n",
       "      <td>False</td>\n",
       "    </tr>\n",
       "    <tr>\n",
       "      <th>2</th>\n",
       "      <td>1</td>\n",
       "      <td>3</td>\n",
       "      <td>female</td>\n",
       "      <td>26.0</td>\n",
       "      <td>0</td>\n",
       "      <td>0</td>\n",
       "      <td>7.9250</td>\n",
       "      <td>False</td>\n",
       "    </tr>\n",
       "    <tr>\n",
       "      <th>3</th>\n",
       "      <td>1</td>\n",
       "      <td>1</td>\n",
       "      <td>female</td>\n",
       "      <td>35.0</td>\n",
       "      <td>1</td>\n",
       "      <td>0</td>\n",
       "      <td>53.1000</td>\n",
       "      <td>False</td>\n",
       "    </tr>\n",
       "    <tr>\n",
       "      <th>4</th>\n",
       "      <td>0</td>\n",
       "      <td>3</td>\n",
       "      <td>male</td>\n",
       "      <td>35.0</td>\n",
       "      <td>0</td>\n",
       "      <td>0</td>\n",
       "      <td>8.0500</td>\n",
       "      <td>True</td>\n",
       "    </tr>\n",
       "  </tbody>\n",
       "</table>\n",
       "</div>"
      ],
      "text/plain": [
       "   Survived  Pclass     Sex   Age  Siblings/Spouses  Parents/Children  \\\n",
       "0         0       3    male  22.0                 1                 0   \n",
       "1         1       1  female  38.0                 1                 0   \n",
       "2         1       3  female  26.0                 0                 0   \n",
       "3         1       1  female  35.0                 1                 0   \n",
       "4         0       3    male  35.0                 0                 0   \n",
       "\n",
       "      Fare   male  \n",
       "0   7.2500   True  \n",
       "1  71.2833  False  \n",
       "2   7.9250  False  \n",
       "3  53.1000  False  \n",
       "4   8.0500   True  "
      ]
     },
     "execution_count": 43,
     "metadata": {},
     "output_type": "execute_result"
    }
   ],
   "source": [
    "df['male'] = df['Sex'] == 'male'\n",
    "df.head()"
   ]
  },
  {
   "cell_type": "code",
   "execution_count": 125,
   "id": "8dc445f2",
   "metadata": {},
   "outputs": [],
   "source": [
    "x = df[[\"Pclass\",\"male\", \"Age\", \"Siblings/Spouses\", \"Parents/Children\", \"Fare\"]].values\n",
    "y = df[[\"Survived\"]].values\n"
   ]
  },
  {
   "cell_type": "code",
   "execution_count": 126,
   "id": "54d820f0",
   "metadata": {},
   "outputs": [
    {
     "name": "stderr",
     "output_type": "stream",
     "text": [
      "C:\\Users\\JAYAVARDHAN SWARNA\\anaconda3\\lib\\site-packages\\sklearn\\utils\\validation.py:63: DataConversionWarning: A column-vector y was passed when a 1d array was expected. Please change the shape of y to (n_samples, ), for example using ravel().\n",
      "  return f(*args, **kwargs)\n"
     ]
    },
    {
     "data": {
      "text/plain": [
       "LogisticRegression()"
      ]
     },
     "execution_count": 126,
     "metadata": {},
     "output_type": "execute_result"
    }
   ],
   "source": [
    "from sklearn.linear_model import LogisticRegression\n",
    "model = LogisticRegression()\n",
    "model.fit(x,y)"
   ]
  },
  {
   "cell_type": "code",
   "execution_count": 127,
   "id": "518b0f7b",
   "metadata": {},
   "outputs": [
    {
     "name": "stderr",
     "output_type": "stream",
     "text": [
      "C:\\Users\\JAYAVARDHAN SWARNA\\anaconda3\\lib\\site-packages\\sklearn\\utils\\validation.py:63: DataConversionWarning: A column-vector y was passed when a 1d array was expected. Please change the shape of y to (n_samples, ), for example using ravel().\n",
      "  return f(*args, **kwargs)\n"
     ]
    },
    {
     "data": {
      "text/plain": [
       "LogisticRegression()"
      ]
     },
     "execution_count": 127,
     "metadata": {},
     "output_type": "execute_result"
    }
   ],
   "source": [
    "model.fit(x,y)"
   ]
  },
  {
   "cell_type": "code",
   "execution_count": 128,
   "id": "d4dcfd57",
   "metadata": {},
   "outputs": [
    {
     "data": {
      "text/plain": [
       "array([0, 0], dtype=int64)"
      ]
     },
     "execution_count": 128,
     "metadata": {},
     "output_type": "execute_result"
    }
   ],
   "source": [
    "model.predict(x[4:6])"
   ]
  },
  {
   "cell_type": "code",
   "execution_count": 129,
   "id": "f9054eae",
   "metadata": {},
   "outputs": [
    {
     "data": {
      "text/plain": [
       "array([[0],\n",
       "       [0]], dtype=int64)"
      ]
     },
     "execution_count": 129,
     "metadata": {},
     "output_type": "execute_result"
    }
   ],
   "source": [
    "y[4:6]"
   ]
  },
  {
   "cell_type": "code",
   "execution_count": 130,
   "id": "94c2d579",
   "metadata": {},
   "outputs": [
    {
     "data": {
      "text/plain": [
       "array([0], dtype=int64)"
      ]
     },
     "execution_count": 130,
     "metadata": {},
     "output_type": "execute_result"
    }
   ],
   "source": [
    "model.predict([[2, False, 55.0, 1, 4, 8.55]])"
   ]
  },
  {
   "cell_type": "code",
   "execution_count": 131,
   "id": "ba5470c6",
   "metadata": {},
   "outputs": [
    {
     "data": {
      "text/plain": [
       "array([1], dtype=int64)"
      ]
     },
     "execution_count": 131,
     "metadata": {},
     "output_type": "execute_result"
    }
   ],
   "source": [
    "model.predict([[3, False, 26.0, 0, 0, 7.9250]])"
   ]
  },
  {
   "cell_type": "code",
   "execution_count": 133,
   "id": "14e12aa3",
   "metadata": {},
   "outputs": [
    {
     "data": {
      "text/plain": [
       "0.8049605411499436"
      ]
     },
     "execution_count": 133,
     "metadata": {},
     "output_type": "execute_result"
    }
   ],
   "source": [
    "model.score(x,y)"
   ]
  },
  {
   "cell_type": "code",
   "execution_count": null,
   "id": "de686adc",
   "metadata": {},
   "outputs": [],
   "source": []
  },
  {
   "cell_type": "code",
   "execution_count": null,
   "id": "4c14604f",
   "metadata": {},
   "outputs": [],
   "source": []
  },
  {
   "cell_type": "code",
   "execution_count": null,
   "id": "27206552",
   "metadata": {},
   "outputs": [],
   "source": [
    "\"\"\"\"\"\"\"\"\"\"\"\"\"\"\"\"\"\"\"\"\"\"\"\"\"\"\"\"\"\"\"\"\"\"\"\"\"\"\"\"\"\"\"\"\"\"\"Logistic Regression\"\"\"\"\"\"\"\"\"\"\"\"\"\"\"\"\"\"\"\"\"\"\"\"\"\"\"\"\"\"\"\"\"\"\"\"\"\"\"\"\"\"\"\"\"\"\"\"\"\"\"\"\"\"\"\"\"\"\"\"\"\""
   ]
  },
  {
   "cell_type": "code",
   "execution_count": 44,
   "id": "3441f8ad",
   "metadata": {},
   "outputs": [],
   "source": [
    "#1)preprocessing\n",
    "import numpy as np\n",
    "import pandas as pd\n",
    "import matplotlib.pyplot as plt"
   ]
  },
  {
   "cell_type": "code",
   "execution_count": 45,
   "id": "93acf6f4",
   "metadata": {
    "scrolled": true
   },
   "outputs": [
    {
     "name": "stdout",
     "output_type": "stream",
     "text": [
      "(887, 7)\n"
     ]
    },
    {
     "data": {
      "text/html": [
       "<div>\n",
       "<style scoped>\n",
       "    .dataframe tbody tr th:only-of-type {\n",
       "        vertical-align: middle;\n",
       "    }\n",
       "\n",
       "    .dataframe tbody tr th {\n",
       "        vertical-align: top;\n",
       "    }\n",
       "\n",
       "    .dataframe thead th {\n",
       "        text-align: right;\n",
       "    }\n",
       "</style>\n",
       "<table border=\"1\" class=\"dataframe\">\n",
       "  <thead>\n",
       "    <tr style=\"text-align: right;\">\n",
       "      <th></th>\n",
       "      <th>Survived</th>\n",
       "      <th>Pclass</th>\n",
       "      <th>Sex</th>\n",
       "      <th>Age</th>\n",
       "      <th>Siblings/Spouses</th>\n",
       "      <th>Parents/Children</th>\n",
       "      <th>Fare</th>\n",
       "    </tr>\n",
       "  </thead>\n",
       "  <tbody>\n",
       "    <tr>\n",
       "      <th>0</th>\n",
       "      <td>0</td>\n",
       "      <td>3</td>\n",
       "      <td>male</td>\n",
       "      <td>22.0</td>\n",
       "      <td>1</td>\n",
       "      <td>0</td>\n",
       "      <td>7.2500</td>\n",
       "    </tr>\n",
       "    <tr>\n",
       "      <th>1</th>\n",
       "      <td>1</td>\n",
       "      <td>1</td>\n",
       "      <td>female</td>\n",
       "      <td>38.0</td>\n",
       "      <td>1</td>\n",
       "      <td>0</td>\n",
       "      <td>71.2833</td>\n",
       "    </tr>\n",
       "    <tr>\n",
       "      <th>2</th>\n",
       "      <td>1</td>\n",
       "      <td>3</td>\n",
       "      <td>female</td>\n",
       "      <td>26.0</td>\n",
       "      <td>0</td>\n",
       "      <td>0</td>\n",
       "      <td>7.9250</td>\n",
       "    </tr>\n",
       "    <tr>\n",
       "      <th>3</th>\n",
       "      <td>1</td>\n",
       "      <td>1</td>\n",
       "      <td>female</td>\n",
       "      <td>35.0</td>\n",
       "      <td>1</td>\n",
       "      <td>0</td>\n",
       "      <td>53.1000</td>\n",
       "    </tr>\n",
       "    <tr>\n",
       "      <th>4</th>\n",
       "      <td>0</td>\n",
       "      <td>3</td>\n",
       "      <td>male</td>\n",
       "      <td>35.0</td>\n",
       "      <td>0</td>\n",
       "      <td>0</td>\n",
       "      <td>8.0500</td>\n",
       "    </tr>\n",
       "  </tbody>\n",
       "</table>\n",
       "</div>"
      ],
      "text/plain": [
       "   Survived  Pclass     Sex   Age  Siblings/Spouses  Parents/Children     Fare\n",
       "0         0       3    male  22.0                 1                 0   7.2500\n",
       "1         1       1  female  38.0                 1                 0  71.2833\n",
       "2         1       3  female  26.0                 0                 0   7.9250\n",
       "3         1       1  female  35.0                 1                 0  53.1000\n",
       "4         0       3    male  35.0                 0                 0   8.0500"
      ]
     },
     "execution_count": 45,
     "metadata": {},
     "output_type": "execute_result"
    }
   ],
   "source": [
    "#2)importing dataset\n",
    "df = pd.read_csv(\"D:\\\\Data\\\\titanic.csv\")\n",
    "print(df.values.shape)\n",
    "df.head()"
   ]
  },
  {
   "cell_type": "code",
   "execution_count": 8,
   "id": "ca7e762e",
   "metadata": {},
   "outputs": [
    {
     "data": {
      "text/plain": [
       "Survived            0\n",
       "Pclass              0\n",
       "Sex                 0\n",
       "Age                 0\n",
       "Siblings/Spouses    0\n",
       "Parents/Children    0\n",
       "Fare                0\n",
       "dtype: int64"
      ]
     },
     "execution_count": 8,
     "metadata": {},
     "output_type": "execute_result"
    }
   ],
   "source": [
    "#3)checking if any error present in the data \n",
    "df.isna().sum()"
   ]
  },
  {
   "cell_type": "code",
   "execution_count": 9,
   "id": "1a108b98",
   "metadata": {},
   "outputs": [
    {
     "data": {
      "text/html": [
       "<div>\n",
       "<style scoped>\n",
       "    .dataframe tbody tr th:only-of-type {\n",
       "        vertical-align: middle;\n",
       "    }\n",
       "\n",
       "    .dataframe tbody tr th {\n",
       "        vertical-align: top;\n",
       "    }\n",
       "\n",
       "    .dataframe thead th {\n",
       "        text-align: right;\n",
       "    }\n",
       "</style>\n",
       "<table border=\"1\" class=\"dataframe\">\n",
       "  <thead>\n",
       "    <tr style=\"text-align: right;\">\n",
       "      <th></th>\n",
       "      <th>Survived</th>\n",
       "      <th>Pclass</th>\n",
       "      <th>Sex</th>\n",
       "      <th>Age</th>\n",
       "      <th>Siblings/Spouses</th>\n",
       "      <th>Parents/Children</th>\n",
       "      <th>Fare</th>\n",
       "      <th>male</th>\n",
       "    </tr>\n",
       "  </thead>\n",
       "  <tbody>\n",
       "    <tr>\n",
       "      <th>0</th>\n",
       "      <td>0</td>\n",
       "      <td>3</td>\n",
       "      <td>male</td>\n",
       "      <td>22.0</td>\n",
       "      <td>1</td>\n",
       "      <td>0</td>\n",
       "      <td>7.2500</td>\n",
       "      <td>True</td>\n",
       "    </tr>\n",
       "    <tr>\n",
       "      <th>1</th>\n",
       "      <td>1</td>\n",
       "      <td>1</td>\n",
       "      <td>female</td>\n",
       "      <td>38.0</td>\n",
       "      <td>1</td>\n",
       "      <td>0</td>\n",
       "      <td>71.2833</td>\n",
       "      <td>False</td>\n",
       "    </tr>\n",
       "    <tr>\n",
       "      <th>2</th>\n",
       "      <td>1</td>\n",
       "      <td>3</td>\n",
       "      <td>female</td>\n",
       "      <td>26.0</td>\n",
       "      <td>0</td>\n",
       "      <td>0</td>\n",
       "      <td>7.9250</td>\n",
       "      <td>False</td>\n",
       "    </tr>\n",
       "    <tr>\n",
       "      <th>3</th>\n",
       "      <td>1</td>\n",
       "      <td>1</td>\n",
       "      <td>female</td>\n",
       "      <td>35.0</td>\n",
       "      <td>1</td>\n",
       "      <td>0</td>\n",
       "      <td>53.1000</td>\n",
       "      <td>False</td>\n",
       "    </tr>\n",
       "    <tr>\n",
       "      <th>4</th>\n",
       "      <td>0</td>\n",
       "      <td>3</td>\n",
       "      <td>male</td>\n",
       "      <td>35.0</td>\n",
       "      <td>0</td>\n",
       "      <td>0</td>\n",
       "      <td>8.0500</td>\n",
       "      <td>True</td>\n",
       "    </tr>\n",
       "  </tbody>\n",
       "</table>\n",
       "</div>"
      ],
      "text/plain": [
       "   Survived  Pclass     Sex   Age  Siblings/Spouses  Parents/Children  \\\n",
       "0         0       3    male  22.0                 1                 0   \n",
       "1         1       1  female  38.0                 1                 0   \n",
       "2         1       3  female  26.0                 0                 0   \n",
       "3         1       1  female  35.0                 1                 0   \n",
       "4         0       3    male  35.0                 0                 0   \n",
       "\n",
       "      Fare   male  \n",
       "0   7.2500   True  \n",
       "1  71.2833  False  \n",
       "2   7.9250  False  \n",
       "3  53.1000  False  \n",
       "4   8.0500   True  "
      ]
     },
     "execution_count": 9,
     "metadata": {},
     "output_type": "execute_result"
    }
   ],
   "source": [
    "df['male'] = df['Sex'] == 'male'\n",
    "df.head()"
   ]
  },
  {
   "cell_type": "code",
   "execution_count": 10,
   "id": "878e2d64",
   "metadata": {},
   "outputs": [
    {
     "data": {
      "text/html": [
       "<div>\n",
       "<style scoped>\n",
       "    .dataframe tbody tr th:only-of-type {\n",
       "        vertical-align: middle;\n",
       "    }\n",
       "\n",
       "    .dataframe tbody tr th {\n",
       "        vertical-align: top;\n",
       "    }\n",
       "\n",
       "    .dataframe thead th {\n",
       "        text-align: right;\n",
       "    }\n",
       "</style>\n",
       "<table border=\"1\" class=\"dataframe\">\n",
       "  <thead>\n",
       "    <tr style=\"text-align: right;\">\n",
       "      <th></th>\n",
       "      <th>Survived</th>\n",
       "      <th>Pclass</th>\n",
       "      <th>Age</th>\n",
       "      <th>Siblings/Spouses</th>\n",
       "      <th>Parents/Children</th>\n",
       "      <th>Fare</th>\n",
       "      <th>male</th>\n",
       "    </tr>\n",
       "  </thead>\n",
       "  <tbody>\n",
       "    <tr>\n",
       "      <th>0</th>\n",
       "      <td>0</td>\n",
       "      <td>3</td>\n",
       "      <td>22.0</td>\n",
       "      <td>1</td>\n",
       "      <td>0</td>\n",
       "      <td>7.2500</td>\n",
       "      <td>True</td>\n",
       "    </tr>\n",
       "    <tr>\n",
       "      <th>1</th>\n",
       "      <td>1</td>\n",
       "      <td>1</td>\n",
       "      <td>38.0</td>\n",
       "      <td>1</td>\n",
       "      <td>0</td>\n",
       "      <td>71.2833</td>\n",
       "      <td>False</td>\n",
       "    </tr>\n",
       "    <tr>\n",
       "      <th>2</th>\n",
       "      <td>1</td>\n",
       "      <td>3</td>\n",
       "      <td>26.0</td>\n",
       "      <td>0</td>\n",
       "      <td>0</td>\n",
       "      <td>7.9250</td>\n",
       "      <td>False</td>\n",
       "    </tr>\n",
       "    <tr>\n",
       "      <th>3</th>\n",
       "      <td>1</td>\n",
       "      <td>1</td>\n",
       "      <td>35.0</td>\n",
       "      <td>1</td>\n",
       "      <td>0</td>\n",
       "      <td>53.1000</td>\n",
       "      <td>False</td>\n",
       "    </tr>\n",
       "    <tr>\n",
       "      <th>4</th>\n",
       "      <td>0</td>\n",
       "      <td>3</td>\n",
       "      <td>35.0</td>\n",
       "      <td>0</td>\n",
       "      <td>0</td>\n",
       "      <td>8.0500</td>\n",
       "      <td>True</td>\n",
       "    </tr>\n",
       "  </tbody>\n",
       "</table>\n",
       "</div>"
      ],
      "text/plain": [
       "   Survived  Pclass   Age  Siblings/Spouses  Parents/Children     Fare   male\n",
       "0         0       3  22.0                 1                 0   7.2500   True\n",
       "1         1       1  38.0                 1                 0  71.2833  False\n",
       "2         1       3  26.0                 0                 0   7.9250  False\n",
       "3         1       1  35.0                 1                 0  53.1000  False\n",
       "4         0       3  35.0                 0                 0   8.0500   True"
      ]
     },
     "execution_count": 10,
     "metadata": {},
     "output_type": "execute_result"
    }
   ],
   "source": [
    "df.drop(\"Sex\", axis = 1, inplace = True)\n",
    "df.head()"
   ]
  },
  {
   "cell_type": "code",
   "execution_count": 11,
   "id": "8a78277c",
   "metadata": {},
   "outputs": [
    {
     "name": "stdout",
     "output_type": "stream",
     "text": [
      "[[3 22.0 1 0 7.25 True]\n",
      " [1 38.0 1 0 71.2833 False]\n",
      " [3 26.0 0 0 7.925 False]\n",
      " ...\n",
      " [3 7.0 1 2 23.45 False]\n",
      " [1 26.0 0 0 30.0 True]\n",
      " [3 32.0 0 0 7.75 True]]\n",
      "[0 1 1 1 0 0 0 0 1 1 1 1 0 0 0 1 0 1 0 1 0 1 1 1 0 1 0 0 1 0 0 1 1 0 0 0 1\n",
      " 0 0 1 0 0 1 1 0 0 1 0 0 0 0 1 1 0 1 1 0 1 0 0 1 0 0 0 1 1 0 1 0 0 0 0 0 1\n",
      " 0 0 0 1 1 0 1 1 0 1 1 0 0 1 0 0 0 0 0 0 0 0 1 1 0 0 0 0 0 0 0 1 1 0 1 0 0\n",
      " 0 0 0 0 0 0 0 0 0 0 0 1 0 1 0 1 1 0 0 0 0 1 0 0 1 0 0 0 0 1 1 0 0 0 1 0 0\n",
      " 0 0 1 0 0 0 0 1 0 0 0 0 1 0 0 0 1 1 0 0 0 0 0 1 0 0 0 0 0 0 0 0 0 0 1 1 0\n",
      " 1 1 0 0 1 0 1 1 1 1 0 0 1 0 0 0 0 0 1 0 0 1 1 1 0 1 0 0 0 1 1 0 1 0 1 0 0\n",
      " 0 1 0 1 0 0 0 1 0 0 1 0 0 0 1 0 0 0 1 0 0 0 0 0 1 1 0 0 0 0 0 0 1 1 1 1 1\n",
      " 1 0 0 0 0 0 1 1 1 0 1 1 0 1 1 0 0 0 1 0 0 0 1 0 0 1 0 1 1 1 1 0 0 0 0 0 0\n",
      " 1 1 1 1 0 1 0 1 1 1 0 1 1 1 0 0 0 1 1 0 1 1 0 0 1 1 0 1 0 1 1 1 1 0 0 0 1\n",
      " 0 0 1 1 0 1 1 0 0 0 1 1 1 1 0 0 0 0 0 0 0 1 0 1 1 0 0 0 0 0 0 1 1 1 1 1 0\n",
      " 0 0 0 1 1 0 0 0 1 1 0 1 0 0 0 1 0 1 1 1 0 1 1 0 0 0 0 1 1 0 0 0 0 0 0 1 0\n",
      " 0 0 0 1 0 1 0 1 1 0 0 0 0 0 0 0 1 1 0 1 1 1 1 0 0 1 0 1 0 0 1 0 0 1 1 1 1\n",
      " 1 1 1 0 0 0 1 0 1 0 1 1 0 1 0 0 0 0 0 0 0 0 1 0 0 1 1 0 0 0 0 0 1 0 0 0 1\n",
      " 1 0 1 0 0 1 0 0 0 0 0 0 1 0 0 0 0 0 0 0 1 0 1 1 0 1 1 0 1 1 0 0 1 0 1 0 1\n",
      " 0 0 1 0 0 1 0 0 0 1 0 0 1 0 1 0 1 0 1 1 0 0 1 0 0 1 1 0 1 1 0 0 1 1 0 1 0\n",
      " 1 1 0 0 0 0 0 0 0 0 0 1 1 1 1 1 0 0 1 1 0 1 1 1 0 0 0 1 0 1 0 0 0 1 0 0 0\n",
      " 0 1 0 0 1 1 0 0 0 1 0 0 1 1 1 0 0 1 0 0 1 0 0 1 0 0 1 1 0 0 0 0 1 0 0 1 0\n",
      " 1 0 0 1 0 0 0 0 0 1 0 1 1 1 0 1 0 1 0 1 0 1 0 0 0 0 0 0 1 0 0 0 1 0 0 0 0\n",
      " 1 1 0 0 1 0 0 0 1 0 1 0 1 0 0 0 0 0 0 0 1 1 1 1 0 0 0 0 1 0 0 1 1 0 0 0 0\n",
      " 1 1 1 1 1 0 1 0 0 0 1 1 0 1 0 0 0 1 0 1 1 0 0 1 0 0 0 0 0 0 1 0 0 1 0 1 0\n",
      " 1 0 0 1 0 0 1 1 0 0 1 1 0 0 0 1 0 0 1 1 0 1 0 0 0 0 0 0 0 0 1 0 0 1 0 1 1\n",
      " 1 0 0 0 0 1 0 1 0 0 0 0 0 0 0 1 1 0 0 0 1 1 1 1 0 0 0 0 1 0 0 0 0 0 0 0 0\n",
      " 0 0 1 1 0 1 0 0 0 1 1 1 1 1 0 0 0 1 0 0 1 1 0 0 1 0 0 0 0 0 0 1 0 0 0 1 0\n",
      " 1 1 1 1 0 0 0 1 0 0 1 1 0 0 1 0 1 0 0 1 1 0 0 0 1 1 0 0 0 0 0 0 1 0 1 0]\n"
     ]
    }
   ],
   "source": [
    "#4)features vs target\n",
    "x = df.iloc[:, 1:7].values\n",
    "y = df.iloc[:, 0].values\n",
    "print(x)\n",
    "print(y)"
   ]
  },
  {
   "cell_type": "code",
   "execution_count": 12,
   "id": "b480e2bb",
   "metadata": {},
   "outputs": [
    {
     "data": {
      "text/plain": [
       "[<matplotlib.lines.Line2D at 0x11c3b2b7a30>,\n",
       " <matplotlib.lines.Line2D at 0x11c3b2b7af0>,\n",
       " <matplotlib.lines.Line2D at 0x11c3b2b7b80>,\n",
       " <matplotlib.lines.Line2D at 0x11c3b2b7c70>,\n",
       " <matplotlib.lines.Line2D at 0x11c3b2b7d30>,\n",
       " <matplotlib.lines.Line2D at 0x11c3b2b7df0>]"
      ]
     },
     "execution_count": 12,
     "metadata": {},
     "output_type": "execute_result"
    },
    {
     "data": {
      "image/png": "[encoded data removed]",
      "text/plain": [
       "<Figure size 432x288 with 1 Axes>"
      ]
     },
     "metadata": {
      "needs_background": "light"
     },
     "output_type": "display_data"
    }
   ],
   "source": [
    "plt.plot(x, y)"
   ]
  },
  {
   "cell_type": "code",
   "execution_count": 13,
   "id": "f3f012f0",
   "metadata": {},
   "outputs": [
    {
     "name": "stdout",
     "output_type": "stream",
     "text": [
      "(709, 6)\n",
      "(178, 6)\n",
      "(709,)\n",
      "(178,)\n"
     ]
    }
   ],
   "source": [
    "#5)spliting data into training & testing\n",
    "from sklearn.model_selection import train_test_split as tt\n",
    "x_train, x_test, y_train, y_test = tt(x, y, test_size = 0.2, random_state = 0)\n",
    "print(x_train.shape)\n",
    "print(x_test.shape)\n",
    "print(y_train.shape)\n",
    "print(y_test.shape)"
   ]
  },
  {
   "cell_type": "code",
   "execution_count": 14,
   "id": "4fcbaec3",
   "metadata": {},
   "outputs": [
    {
     "name": "stdout",
     "output_type": "stream",
     "text": [
      "[[ 0.86315976  0.03586517 -0.49076818 -0.45306201 -0.49314838  0.74486547]\n",
      " [-1.52738816  0.6114777  -0.49076818 -0.45306201  0.87213561 -1.34252432]\n",
      " [ 0.86315976 -1.97877871 -0.49076818  0.79682502 -0.39755953 -1.34252432]\n",
      " ...\n",
      " [-1.52738816  0.1797683  -0.49076818 -0.45306201 -0.05196905  0.74486547]\n",
      " [-0.3321142  -0.10803797 -0.49076818 -0.45306201 -0.37455179  0.74486547]\n",
      " [ 0.86315976 -0.75560207 -0.49076818 -0.45306201 -0.43772487  0.74486547]]\n",
      "[[ 0.86315976 -1.11535991 -0.49076818 -0.45306201 -0.48168341 -1.34252432]\n",
      " [ 0.86315976 -1.76292401  7.69639978  2.04671204  0.68902247  0.74486547]\n",
      " [-1.52738816  1.18709024 -0.49076818 -0.45306201  0.12070759  0.74486547]\n",
      " ...\n",
      " [ 0.86315976 -1.47511774  3.6028158   2.04671204 -0.03512834  0.74486547]\n",
      " [ 0.86315976 -1.47511774  2.57941981  2.04671204 -0.10130524 -1.34252432]\n",
      " [ 0.86315976 -0.53974737 -0.49076818 -0.45306201 -0.48366066 -1.34252432]]\n"
     ]
    }
   ],
   "source": [
    "#6)feature scaling\n",
    "from sklearn.preprocessing import StandardScaler\n",
    "ss = StandardScaler()\n",
    "x_train = ss.fit_transform(x_train)\n",
    "x_test = ss.transform(x_test)\n",
    "print(x_train)\n",
    "print(x_test)\n"
   ]
  },
  {
   "cell_type": "code",
   "execution_count": 15,
   "id": "f2d57187",
   "metadata": {},
   "outputs": [
    {
     "data": {
      "text/plain": [
       "LogisticRegression(random_state=0)"
      ]
     },
     "execution_count": 15,
     "metadata": {},
     "output_type": "execute_result"
    }
   ],
   "source": [
    "#7)using particular algorithm\n",
    "from sklearn.linear_model import LogisticRegression as lr\n",
    "modell = lr(random_state = 0)\n",
    "modell.fit(x_train, y_train)"
   ]
  },
  {
   "cell_type": "code",
   "execution_count": 16,
   "id": "a0147ca8",
   "metadata": {},
   "outputs": [
    {
     "data": {
      "text/plain": [
       "array([1, 0, 0, 0, 1, 0, 0, 0, 0, 0, 0, 1, 0, 0, 0, 0, 1, 0, 0, 0, 0, 0,\n",
       "       0, 0, 0, 1, 1, 1, 0, 0, 1, 1, 1, 1, 0, 1, 0, 0, 0, 0, 0, 0, 0, 0,\n",
       "       0, 0, 1, 0, 0, 1, 0, 0, 0, 1, 0, 0, 1, 0, 1, 0, 1, 0, 0, 0, 0, 0,\n",
       "       0, 1, 0, 1, 0, 0, 1, 1, 0, 0, 0, 0, 0, 0, 0, 0, 0, 1, 0, 1, 1, 0,\n",
       "       1, 0, 0, 1, 0, 1, 0, 0, 0, 0, 0, 0, 0, 1, 0, 1, 0, 0, 1, 1, 0, 1,\n",
       "       1, 0, 0, 1, 0, 0, 0, 0, 0, 0, 0, 0, 0, 0, 0, 0, 0, 0, 1, 0, 1, 1,\n",
       "       1, 1, 0, 0, 0, 1, 1, 0, 0, 1, 0, 0, 1, 0, 1, 1, 0, 0, 0, 0, 1, 1,\n",
       "       1, 0, 1, 0, 0, 0, 0, 0, 0, 0, 0, 1, 0, 0, 0, 1, 1, 0, 0, 0, 0, 0,\n",
       "       1, 1], dtype=int64)"
      ]
     },
     "execution_count": 16,
     "metadata": {},
     "output_type": "execute_result"
    }
   ],
   "source": [
    "#8) predicting output of split x_test\n",
    "y_pred = modell.predict(x_test)\n",
    "y_pred"
   ]
  },
  {
   "cell_type": "code",
   "execution_count": 17,
   "id": "ef05eede",
   "metadata": {},
   "outputs": [
    {
     "name": "stdout",
     "output_type": "stream",
     "text": [
      "[[102  15]\n",
      " [ 21  40]]\n"
     ]
    },
    {
     "data": {
      "text/plain": [
       "0.797752808988764"
      ]
     },
     "execution_count": 17,
     "metadata": {},
     "output_type": "execute_result"
    }
   ],
   "source": [
    "#9)confusion metrice and accuracy\n",
    "from sklearn.metrics import confusion_matrix, accuracy_score\n",
    "print(confusion_matrix(y_test,y_pred))\n",
    "accuracy_score(y_test,y_pred)"
   ]
  },
  {
   "cell_type": "code",
   "execution_count": 18,
   "id": "9a640845",
   "metadata": {},
   "outputs": [
    {
     "data": {
      "text/plain": [
       "[<matplotlib.lines.Line2D at 0x11c3b710310>]"
      ]
     },
     "execution_count": 18,
     "metadata": {},
     "output_type": "execute_result"
    },
    {
     "data": {
      "image/png": "[encoded data removed]",
      "text/plain": [
       "<Figure size 432x288 with 1 Axes>"
      ]
     },
     "metadata": {
      "needs_background": "light"
     },
     "output_type": "display_data"
    }
   ],
   "source": [
    "#10)vizualization\n",
    "plt.plot(y_test, y_pred)"
   ]
  },
  {
   "cell_type": "code",
   "execution_count": 20,
   "id": "25cd3039",
   "metadata": {},
   "outputs": [
    {
     "data": {
      "text/plain": [
       "array([0], dtype=int64)"
      ]
     },
     "execution_count": 20,
     "metadata": {},
     "output_type": "execute_result"
    }
   ],
   "source": [
    "modell.predict([[2, False, 55.0, 1, 4, 8.55]])"
   ]
  },
  {
   "cell_type": "code",
   "execution_count": null,
   "id": "1c01ed48",
   "metadata": {},
   "outputs": [],
   "source": [
    "\"\"\"\"\"\"\"\"\"\"\"\"\"\"\"\"\"\"\"\"\"\"\"\"\"\"\"\"\"\"\"\"\"\"\"\"\"\"\"MISSION OCR\"\"\"\"\"\"\"\"\"\"\"\"\"\"\"\"\"\"\"\"\"\"\"\"\"\"\"\"\"\"\"\"\"\"\"\"\"\"\"\"\"\"\"\"\"\"\"\"\"\"\"\""
   ]
  },
  {
   "cell_type": "code",
   "execution_count": 1,
   "id": "0e7a3aa3",
   "metadata": {},
   "outputs": [],
   "source": [
    "#1\n",
    "import pytesseract"
   ]
  },
  {
   "cell_type": "code",
   "execution_count": 2,
   "id": "0dd40df8",
   "metadata": {},
   "outputs": [],
   "source": [
    "from PIL import Image"
   ]
  },
  {
   "cell_type": "code",
   "execution_count": 3,
   "id": "832253f4",
   "metadata": {},
   "outputs": [],
   "source": [
    "pytesseract.pytesseract.tesseract_cmd = r'D:\\Python\\python installation 3.7.9\\tesseract in jupyter\\tesseract.exe'"
   ]
  },
  {
   "cell_type": "code",
   "execution_count": 4,
   "id": "070334ca",
   "metadata": {},
   "outputs": [],
   "source": [
    "img = Image.open(\"C:\\\\Users\\\\JAYAVARDHAN SWARNA\\\\OneDrive\\\\Pictures\\\\Screenshots\\\\phpKJjoo8.png\")"
   ]
  },
  {
   "cell_type": "code",
   "execution_count": 5,
   "id": "9140683d",
   "metadata": {},
   "outputs": [],
   "source": [
    "text = pytesseract.image_to_string(img)"
   ]
  },
  {
   "cell_type": "code",
   "execution_count": 6,
   "id": "cf3d17e7",
   "metadata": {},
   "outputs": [
    {
     "name": "stdout",
     "output_type": "stream",
     "text": [
      "x= 5\n",
      "y=4\n",
      "if x<y or y<4:\n",
      "print (float (x) )\n",
      "elif x>y and y<4:\n",
      "print (float (y) )\n",
      "else:\n",
      "erin’ (*#ty*)\n",
      "\f",
      "\n"
     ]
    }
   ],
   "source": [
    "print(text)"
   ]
  },
  {
   "cell_type": "code",
   "execution_count": 7,
   "id": "b4e7a1e4",
   "metadata": {},
   "outputs": [],
   "source": [
    "#2\n",
    "import pytesseract"
   ]
  },
  {
   "cell_type": "code",
   "execution_count": 8,
   "id": "3b624de3",
   "metadata": {},
   "outputs": [],
   "source": [
    "from PIL import Image"
   ]
  },
  {
   "cell_type": "code",
   "execution_count": 9,
   "id": "6a672b8b",
   "metadata": {},
   "outputs": [],
   "source": [
    "pytesseract.pytesseract.tesseract_cmd = r'D:\\Python\\python installation 3.7.9\\tesseract in jupyter\\tesseract.exe'"
   ]
  },
  {
   "cell_type": "code",
   "execution_count": null,
   "id": "d334e79e",
   "metadata": {},
   "outputs": [],
   "source": [
    "path = eval(input(\" Please Enter the path of your IMAGE = \"))"
   ]
  },
  {
   "cell_type": "code",
   "execution_count": 14,
   "id": "ed1c7e2f",
   "metadata": {},
   "outputs": [],
   "source": [
    "img = Image.open(path)"
   ]
  },
  {
   "cell_type": "code",
   "execution_count": 15,
   "id": "6f5ef476",
   "metadata": {},
   "outputs": [],
   "source": [
    "text = pytesseract.image_to_string(img)"
   ]
  },
  {
   "cell_type": "code",
   "execution_count": 16,
   "id": "c6d47c11",
   "metadata": {},
   "outputs": [
    {
     "name": "stdout",
     "output_type": "stream",
     "text": [
      "lam curious about\n",
      "area-filling text\n",
      "rendering options\n",
      "\f",
      "\n"
     ]
    }
   ],
   "source": [
    "print(text)"
   ]
  },
  {
   "cell_type": "code",
   "execution_count": null,
   "id": "8ce30274",
   "metadata": {},
   "outputs": [],
   "source": [
    "#3\n",
    "import pytesseract\n",
    "from PIL import Image\n",
    "pytesseract.pytesseract.tesseract_cmd = r'D:\\Python\\python installation 3.7.9\\tesseract in jupyter\\tesseract.exe'\n",
    "path = eval(input(\" Please Enter the path of your IMAGE = \"))\n",
    "img = Image.open(path)\n",
    "text = pytesseract.image_to_string(img)\n",
    "print(text)"
   ]
  },
  {
   "cell_type": "code",
   "execution_count": null,
   "id": "68c6538a",
   "metadata": {},
   "outputs": [],
   "source": [
    "\"\"\"\"\"\"\"\"\"\"\"\"\"\"\"\"\"\"\"\"\"\"\"\"\"\"\"\"\"\"\"\"\"\"\"\"\"\"MISSION KIVY\"\"\"\"\"\"\"\"\"\"\"\"\"\"\"\"\"\"\"\"\"\"\"\"\"\"\"\"\"\"\"\"\"\"\"\"\"\"\"\"\"\"\"\"\"\"\"\"\"\"\""
   ]
  },
  {
   "cell_type": "code",
   "execution_count": 34,
   "id": "dd477846",
   "metadata": {},
   "outputs": [],
   "source": []
  },
  {
   "cell_type": "code",
   "execution_count": 35,
   "id": "1a76b01d",
   "metadata": {},
   "outputs": [],
   "source": []
  },
  {
   "cell_type": "code",
   "execution_count": null,
   "id": "c00454be",
   "metadata": {},
   "outputs": [],
   "source": []
  },
  {
   "cell_type": "code",
   "execution_count": 1,
   "id": "900ac941",
   "metadata": {},
   "outputs": [
    {
     "name": "stderr",
     "output_type": "stream",
     "text": [
      "[INFO   ] [Logger      ] Record log in C:\\Users\\JAYAVARDHAN SWARNA\\.kivy\\logs\\kivy_21-10-25_9.txt\n",
      "[INFO   ] [deps        ] Successfully imported \"kivy_deps.angle\" 0.3.0\n",
      "[INFO   ] [deps        ] Successfully imported \"kivy_deps.glew\" 0.3.0\n",
      "[INFO   ] [deps        ] Successfully imported \"kivy_deps.sdl2\" 0.3.1\n",
      "[INFO   ] [Kivy        ] v2.0.0\n",
      "[INFO   ] [Kivy        ] Installed at \"C:\\Users\\JAYAVARDHAN SWARNA\\anaconda3\\lib\\site-packages\\kivy\\__init__.py\"\n",
      "[INFO   ] [Python      ] v3.8.8 (default, Apr 13 2021, 15:08:03) [MSC v.1916 64 bit (AMD64)]\n",
      "[INFO   ] [Python      ] Interpreter at \"C:\\Users\\JAYAVARDHAN SWARNA\\anaconda3\\python.exe\"\n",
      "[INFO   ] [Factory     ] 186 symbols loaded\n",
      "[INFO   ] [Image       ] Providers: img_tex, img_dds, img_sdl2, img_pil (img_ffpyplayer ignored)\n",
      "[INFO   ] [Text        ] Provider: sdl2\n",
      "[WARNING] [Deprecated  ] Call to deprecated function __init__ in C:\\Users\\JAYAVARDHAN SWARNA\\anaconda3\\lib\\site-packages\\kivy\\interactive.py line 308.Called from <ipython-input-1-c75a789c386b> line 9 by <module>().\n",
      "[INFO   ] [Window      ] Provider: sdl2\n",
      "[INFO   ] [GL          ] Using the \"OpenGL\" graphics system\n",
      "[INFO   ] [GL          ] GLEW initialization succeeded\n",
      "[INFO   ] [GL          ] Backend used <glew>\n",
      "[INFO   ] [GL          ] OpenGL version <b'4.6.0 - Build 27.20.100.8853'>\n",
      "[INFO   ] [GL          ] OpenGL vendor <b'Intel'>\n",
      "[INFO   ] [GL          ] OpenGL renderer <b'Intel(R) UHD Graphics'>\n",
      "[INFO   ] [GL          ] OpenGL parsed version: 4, 6\n",
      "[INFO   ] [GL          ] Shading version <b'4.60 - Build 27.20.100.8853'>\n",
      "[INFO   ] [GL          ] Texture max size <16384>\n",
      "[INFO   ] [GL          ] Texture max units <32>\n",
      "[INFO   ] [Window      ] auto add sdl2 input provider\n",
      "[INFO   ] [Window      ] virtual keyboard not allowed, single mode, not docked\n",
      "[INFO   ] [Base        ] Start application main loop\n",
      "[INFO   ] [GL          ] NPOT texture support is available\n",
      "[INFO   ] [Base        ] Leaving application in progress...\n"
     ]
    }
   ],
   "source": [
    "from kivy.interactive import InteractiveLauncher\n",
    "from kivy.app import App\n",
    "from kivy.uix.button import Button\n",
    "\n",
    "class MyApp(App):\n",
    "    def build(self):\n",
    "        return Button(text='Hello Shell')\n",
    "\n",
    "launcher = InteractiveLauncher(MyApp())\n",
    "launcher.run()"
   ]
  },
  {
   "cell_type": "code",
   "execution_count": 4,
   "id": "b3a42606",
   "metadata": {},
   "outputs": [],
   "source": [
    "from tkinter import*\n",
    "root=Tk()\n",
    "root.title('my window')\n",
    "c=Canvas(root,bg='blue', height=700, width=1200, cursor='pencil')\n",
    "c.pack()\n",
    "c.create_rectangle(500,200,700,600, width=5,fill='gray',\n",
    "activefill='yellow')\n",
    "root.mainloop()"
   ]
  },
  {
   "cell_type": "code",
   "execution_count": 16,
   "id": "6669e1ac",
   "metadata": {},
   "outputs": [
    {
     "name": "stdout",
     "output_type": "stream",
     "text": [
      "2.0.0\n"
     ]
    }
   ],
   "source": [
    "import kivy as ky\n",
    "print(ky.__version__)"
   ]
  },
  {
   "cell_type": "code",
   "execution_count": null,
   "id": "4da15e9e",
   "metadata": {},
   "outputs": [],
   "source": [
    "\"\"\"\"\"\"\"\"\"\"\"\"\"\"\"\"\"\"\"\"\"\"\"\"\"\"\"\"\"\"\"\"\"\"Mission Credit Card Fraud Detection\"\"\"\"\"\"\"\"\"\"\"\"\"\"\"\"\"\"\"\"\"\"\"\"\"\"\"\"\"\"\"\"\""
   ]
  },
  {
   "cell_type": "code",
   "execution_count": 2,
   "id": "3d13c8a9",
   "metadata": {},
   "outputs": [],
   "source": [
    "#1)preprocessing\n",
    "import pandas as pd \n",
    "import matplotlib.pyplot as plt \n",
    "import seaborn as sns \n",
    "from sklearn.model_selection import train_test_split \n",
    "from sklearn.linear_model import LogisticRegression\n",
    "from sklearn.ensemble import RandomForestClassifier \n",
    "from sklearn import metrics \n",
    "from sklearn.metrics import classification_report\n",
    "from sklearn.preprocessing import StandardScaler"
   ]
  },
  {
   "cell_type": "code",
   "execution_count": null,
   "id": "2dcabce2",
   "metadata": {},
   "outputs": [
    {
     "name": "stdout",
     "output_type": "stream",
     "text": [
      "^C\n",
      "^C\n"
     ]
    }
   ],
   "source": [
    "!conda install -c conda-forge scikit-fuzzy\n",
    "!conda install -c \"conda-forge/label/gcc7\" scikit-fuzzy\n",
    "!conda install -c \"conda-forge/label/cf201901\" scikit-fuzzy\n",
    "!conda install -c \"conda-forge/label/cf202003\" scikit-fuzzy"
   ]
  },
  {
   "cell_type": "code",
   "execution_count": 4,
   "id": "16cb7403",
   "metadata": {},
   "outputs": [
    {
     "data": {
      "text/html": [
       "<div>\n",
       "<style scoped>\n",
       "    .dataframe tbody tr th:only-of-type {\n",
       "        vertical-align: middle;\n",
       "    }\n",
       "\n",
       "    .dataframe tbody tr th {\n",
       "        vertical-align: top;\n",
       "    }\n",
       "\n",
       "    .dataframe thead th {\n",
       "        text-align: right;\n",
       "    }\n",
       "</style>\n",
       "<table border=\"1\" class=\"dataframe\">\n",
       "  <thead>\n",
       "    <tr style=\"text-align: right;\">\n",
       "      <th></th>\n",
       "      <th>Time</th>\n",
       "      <th>V1</th>\n",
       "      <th>V2</th>\n",
       "      <th>V3</th>\n",
       "      <th>V4</th>\n",
       "      <th>V5</th>\n",
       "      <th>V6</th>\n",
       "      <th>V7</th>\n",
       "      <th>V8</th>\n",
       "      <th>V9</th>\n",
       "      <th>...</th>\n",
       "      <th>V21</th>\n",
       "      <th>V22</th>\n",
       "      <th>V23</th>\n",
       "      <th>V24</th>\n",
       "      <th>V25</th>\n",
       "      <th>V26</th>\n",
       "      <th>V27</th>\n",
       "      <th>V28</th>\n",
       "      <th>Amount</th>\n",
       "      <th>Class</th>\n",
       "    </tr>\n",
       "  </thead>\n",
       "  <tbody>\n",
       "    <tr>\n",
       "      <th>0</th>\n",
       "      <td>0.0</td>\n",
       "      <td>-1.359807</td>\n",
       "      <td>-0.072781</td>\n",
       "      <td>2.536347</td>\n",
       "      <td>1.378155</td>\n",
       "      <td>-0.338321</td>\n",
       "      <td>0.462388</td>\n",
       "      <td>0.239599</td>\n",
       "      <td>0.098698</td>\n",
       "      <td>0.363787</td>\n",
       "      <td>...</td>\n",
       "      <td>-0.018307</td>\n",
       "      <td>0.277838</td>\n",
       "      <td>-0.110474</td>\n",
       "      <td>0.066928</td>\n",
       "      <td>0.128539</td>\n",
       "      <td>-0.189115</td>\n",
       "      <td>0.133558</td>\n",
       "      <td>-0.021053</td>\n",
       "      <td>149.62</td>\n",
       "      <td>'0'</td>\n",
       "    </tr>\n",
       "    <tr>\n",
       "      <th>1</th>\n",
       "      <td>0.0</td>\n",
       "      <td>1.191857</td>\n",
       "      <td>0.266151</td>\n",
       "      <td>0.166480</td>\n",
       "      <td>0.448154</td>\n",
       "      <td>0.060018</td>\n",
       "      <td>-0.082361</td>\n",
       "      <td>-0.078803</td>\n",
       "      <td>0.085102</td>\n",
       "      <td>-0.255425</td>\n",
       "      <td>...</td>\n",
       "      <td>-0.225775</td>\n",
       "      <td>-0.638672</td>\n",
       "      <td>0.101288</td>\n",
       "      <td>-0.339846</td>\n",
       "      <td>0.167170</td>\n",
       "      <td>0.125895</td>\n",
       "      <td>-0.008983</td>\n",
       "      <td>0.014724</td>\n",
       "      <td>2.69</td>\n",
       "      <td>'0'</td>\n",
       "    </tr>\n",
       "    <tr>\n",
       "      <th>2</th>\n",
       "      <td>1.0</td>\n",
       "      <td>-1.358354</td>\n",
       "      <td>-1.340163</td>\n",
       "      <td>1.773209</td>\n",
       "      <td>0.379780</td>\n",
       "      <td>-0.503198</td>\n",
       "      <td>1.800499</td>\n",
       "      <td>0.791461</td>\n",
       "      <td>0.247676</td>\n",
       "      <td>-1.514654</td>\n",
       "      <td>...</td>\n",
       "      <td>0.247998</td>\n",
       "      <td>0.771679</td>\n",
       "      <td>0.909412</td>\n",
       "      <td>-0.689281</td>\n",
       "      <td>-0.327642</td>\n",
       "      <td>-0.139097</td>\n",
       "      <td>-0.055353</td>\n",
       "      <td>-0.059752</td>\n",
       "      <td>378.66</td>\n",
       "      <td>'0'</td>\n",
       "    </tr>\n",
       "    <tr>\n",
       "      <th>3</th>\n",
       "      <td>1.0</td>\n",
       "      <td>-0.966272</td>\n",
       "      <td>-0.185226</td>\n",
       "      <td>1.792993</td>\n",
       "      <td>-0.863291</td>\n",
       "      <td>-0.010309</td>\n",
       "      <td>1.247203</td>\n",
       "      <td>0.237609</td>\n",
       "      <td>0.377436</td>\n",
       "      <td>-1.387024</td>\n",
       "      <td>...</td>\n",
       "      <td>-0.108300</td>\n",
       "      <td>0.005274</td>\n",
       "      <td>-0.190321</td>\n",
       "      <td>-1.175575</td>\n",
       "      <td>0.647376</td>\n",
       "      <td>-0.221929</td>\n",
       "      <td>0.062723</td>\n",
       "      <td>0.061458</td>\n",
       "      <td>123.50</td>\n",
       "      <td>'0'</td>\n",
       "    </tr>\n",
       "    <tr>\n",
       "      <th>4</th>\n",
       "      <td>2.0</td>\n",
       "      <td>-1.158233</td>\n",
       "      <td>0.877737</td>\n",
       "      <td>1.548718</td>\n",
       "      <td>0.403034</td>\n",
       "      <td>-0.407193</td>\n",
       "      <td>0.095921</td>\n",
       "      <td>0.592941</td>\n",
       "      <td>-0.270533</td>\n",
       "      <td>0.817739</td>\n",
       "      <td>...</td>\n",
       "      <td>-0.009431</td>\n",
       "      <td>0.798278</td>\n",
       "      <td>-0.137458</td>\n",
       "      <td>0.141267</td>\n",
       "      <td>-0.206010</td>\n",
       "      <td>0.502292</td>\n",
       "      <td>0.219422</td>\n",
       "      <td>0.215153</td>\n",
       "      <td>69.99</td>\n",
       "      <td>'0'</td>\n",
       "    </tr>\n",
       "  </tbody>\n",
       "</table>\n",
       "<p>5 rows × 31 columns</p>\n",
       "</div>"
      ],
      "text/plain": [
       "   Time        V1        V2        V3        V4        V5        V6        V7  \\\n",
       "0   0.0 -1.359807 -0.072781  2.536347  1.378155 -0.338321  0.462388  0.239599   \n",
       "1   0.0  1.191857  0.266151  0.166480  0.448154  0.060018 -0.082361 -0.078803   \n",
       "2   1.0 -1.358354 -1.340163  1.773209  0.379780 -0.503198  1.800499  0.791461   \n",
       "3   1.0 -0.966272 -0.185226  1.792993 -0.863291 -0.010309  1.247203  0.237609   \n",
       "4   2.0 -1.158233  0.877737  1.548718  0.403034 -0.407193  0.095921  0.592941   \n",
       "\n",
       "         V8        V9  ...       V21       V22       V23       V24       V25  \\\n",
       "0  0.098698  0.363787  ... -0.018307  0.277838 -0.110474  0.066928  0.128539   \n",
       "1  0.085102 -0.255425  ... -0.225775 -0.638672  0.101288 -0.339846  0.167170   \n",
       "2  0.247676 -1.514654  ...  0.247998  0.771679  0.909412 -0.689281 -0.327642   \n",
       "3  0.377436 -1.387024  ... -0.108300  0.005274 -0.190321 -1.175575  0.647376   \n",
       "4 -0.270533  0.817739  ... -0.009431  0.798278 -0.137458  0.141267 -0.206010   \n",
       "\n",
       "        V26       V27       V28  Amount  Class  \n",
       "0 -0.189115  0.133558 -0.021053  149.62    '0'  \n",
       "1  0.125895 -0.008983  0.014724    2.69    '0'  \n",
       "2 -0.139097 -0.055353 -0.059752  378.66    '0'  \n",
       "3 -0.221929  0.062723  0.061458  123.50    '0'  \n",
       "4  0.502292  0.219422  0.215153   69.99    '0'  \n",
       "\n",
       "[5 rows x 31 columns]"
      ]
     },
     "execution_count": 4,
     "metadata": {},
     "output_type": "execute_result"
    }
   ],
   "source": [
    "#2)importing dataset\n",
    "data = pd.read_csv(r\"D:\\\\Data-Engineering\\\\Machine_Learning\\\\project\\\\creditcard_csv.csv\")\n",
    "\n",
    "data.head()"
   ]
  },
  {
   "cell_type": "code",
   "execution_count": 8,
   "id": "2cc250f1",
   "metadata": {},
   "outputs": [
    {
     "name": "stdout",
     "output_type": "stream",
     "text": [
      "'0'    284315\n",
      "'1'       492\n",
      "Name: Class, dtype: int64\n"
     ]
    }
   ],
   "source": [
    "print(data['Class'].value_counts()) "
   ]
  },
  {
   "cell_type": "code",
   "execution_count": 9,
   "id": "f616d3ea",
   "metadata": {},
   "outputs": [
    {
     "data": {
      "text/plain": [
       "Time      0\n",
       "V1        0\n",
       "V2        0\n",
       "V3        0\n",
       "V4        0\n",
       "V5        0\n",
       "V6        0\n",
       "V7        0\n",
       "V8        0\n",
       "V9        0\n",
       "V10       0\n",
       "V11       0\n",
       "V12       0\n",
       "V13       0\n",
       "V14       0\n",
       "V15       0\n",
       "V16       0\n",
       "V17       0\n",
       "V18       0\n",
       "V19       0\n",
       "V20       0\n",
       "V21       0\n",
       "V22       0\n",
       "V23       0\n",
       "V24       0\n",
       "V25       0\n",
       "V26       0\n",
       "V27       0\n",
       "V28       0\n",
       "Amount    0\n",
       "Class     0\n",
       "dtype: int64"
      ]
     },
     "execution_count": 9,
     "metadata": {},
     "output_type": "execute_result"
    }
   ],
   "source": [
    "#3)checking if any error present in the data \n",
    "data.isna().sum()"
   ]
  },
  {
   "cell_type": "code",
   "execution_count": 10,
   "id": "65c0388c",
   "metadata": {},
   "outputs": [
    {
     "name": "stdout",
     "output_type": "stream",
     "text": [
      "               V1         V2        V3        V4        V5        V6  \\\n",
      "0       -1.359807  -0.072781  2.536347  1.378155 -0.338321  0.462388   \n",
      "1        1.191857   0.266151  0.166480  0.448154  0.060018 -0.082361   \n",
      "2       -1.358354  -1.340163  1.773209  0.379780 -0.503198  1.800499   \n",
      "3       -0.966272  -0.185226  1.792993 -0.863291 -0.010309  1.247203   \n",
      "4       -1.158233   0.877737  1.548718  0.403034 -0.407193  0.095921   \n",
      "...           ...        ...       ...       ...       ...       ...   \n",
      "284802 -11.881118  10.071785 -9.834783 -2.066656 -5.364473 -2.606837   \n",
      "284803  -0.732789  -0.055080  2.035030 -0.738589  0.868229  1.058415   \n",
      "284804   1.919565  -0.301254 -3.249640 -0.557828  2.630515  3.031260   \n",
      "284805  -0.240440   0.530483  0.702510  0.689799 -0.377961  0.623708   \n",
      "284806  -0.533413  -0.189733  0.703337 -0.506271 -0.012546 -0.649617   \n",
      "\n",
      "              V7        V8        V9       V10  ...       V20       V21  \\\n",
      "0       0.239599  0.098698  0.363787  0.090794  ...  0.251412 -0.018307   \n",
      "1      -0.078803  0.085102 -0.255425 -0.166974  ... -0.069083 -0.225775   \n",
      "2       0.791461  0.247676 -1.514654  0.207643  ...  0.524980  0.247998   \n",
      "3       0.237609  0.377436 -1.387024 -0.054952  ... -0.208038 -0.108300   \n",
      "4       0.592941 -0.270533  0.817739  0.753074  ...  0.408542 -0.009431   \n",
      "...          ...       ...       ...       ...  ...       ...       ...   \n",
      "284802 -4.918215  7.305334  1.914428  4.356170  ...  1.475829  0.213454   \n",
      "284803  0.024330  0.294869  0.584800 -0.975926  ...  0.059616  0.214205   \n",
      "284804 -0.296827  0.708417  0.432454 -0.484782  ...  0.001396  0.232045   \n",
      "284805 -0.686180  0.679145  0.392087 -0.399126  ...  0.127434  0.265245   \n",
      "284806  1.577006 -0.414650  0.486180 -0.915427  ...  0.382948  0.261057   \n",
      "\n",
      "             V22       V23       V24       V25       V26       V27       V28  \\\n",
      "0       0.277838 -0.110474  0.066928  0.128539 -0.189115  0.133558 -0.021053   \n",
      "1      -0.638672  0.101288 -0.339846  0.167170  0.125895 -0.008983  0.014724   \n",
      "2       0.771679  0.909412 -0.689281 -0.327642 -0.139097 -0.055353 -0.059752   \n",
      "3       0.005274 -0.190321 -1.175575  0.647376 -0.221929  0.062723  0.061458   \n",
      "4       0.798278 -0.137458  0.141267 -0.206010  0.502292  0.219422  0.215153   \n",
      "...          ...       ...       ...       ...       ...       ...       ...   \n",
      "284802  0.111864  1.014480 -0.509348  1.436807  0.250034  0.943651  0.823731   \n",
      "284803  0.924384  0.012463 -1.016226 -0.606624 -0.395255  0.068472 -0.053527   \n",
      "284804  0.578229 -0.037501  0.640134  0.265745 -0.087371  0.004455 -0.026561   \n",
      "284805  0.800049 -0.163298  0.123205 -0.569159  0.546668  0.108821  0.104533   \n",
      "284806  0.643078  0.376777  0.008797 -0.473649 -0.818267 -0.002415  0.013649   \n",
      "\n",
      "        Amount  \n",
      "0       149.62  \n",
      "1         2.69  \n",
      "2       378.66  \n",
      "3       123.50  \n",
      "4        69.99  \n",
      "...        ...  \n",
      "284802    0.77  \n",
      "284803   24.79  \n",
      "284804   67.88  \n",
      "284805   10.00  \n",
      "284806  217.00  \n",
      "\n",
      "[284807 rows x 29 columns]\n",
      "---------------------------------------------------------------------------------------------\n",
      "0         '0'\n",
      "1         '0'\n",
      "2         '0'\n",
      "3         '0'\n",
      "4         '0'\n",
      "         ... \n",
      "284802    '0'\n",
      "284803    '0'\n",
      "284804    '0'\n",
      "284805    '0'\n",
      "284806    '0'\n",
      "Name: Class, Length: 284807, dtype: object\n"
     ]
    }
   ],
   "source": [
    "#4)features vs target (or) Dependent vs independent variable \n",
    "X = data.iloc[:, 1:30].columns                               #[column(top:bottom), row(left:right)]\n",
    "X = data[X] \n",
    "y = data['Class']\n",
    "\n",
    "print(X)\n",
    "print(\"---------------------------------------------------------------------------------------------\")\n",
    "print(y)"
   ]
  },
  {
   "cell_type": "code",
   "execution_count": 12,
   "id": "1a3724ed",
   "metadata": {},
   "outputs": [
    {
     "name": "stdout",
     "output_type": "stream",
     "text": [
      "(284807, 31)\n"
     ]
    }
   ],
   "source": [
    "print(data.shape)"
   ]
  },
  {
   "cell_type": "code",
   "execution_count": 11,
   "id": "5dbd0641",
   "metadata": {},
   "outputs": [
    {
     "name": "stdout",
     "output_type": "stream",
     "text": [
      "(199364, 29)\n",
      "(85443, 29)\n",
      "(199364,)\n",
      "(85443,)\n"
     ]
    }
   ],
   "source": [
    "#5)spliting data into training & testing\n",
    "X_train, X_test, y_train, y_test = train_test_split(X, y, test_size=0.3)\n",
    "\n",
    "print(X_train.shape)\n",
    "print(X_test.shape)\n",
    "print(y_train.shape)\n",
    "print(y_test.shape)"
   ]
  },
  {
   "cell_type": "code",
   "execution_count": 14,
   "id": "2474cdd2",
   "metadata": {},
   "outputs": [
    {
     "name": "stdout",
     "output_type": "stream",
     "text": [
      "              V1        V2        V3        V4        V5        V6        V7  \\\n",
      "162208 -2.082067 -8.440489 -4.172869  0.063199 -2.276293  1.589633  2.022496   \n",
      "99864  -0.926517  0.062322  0.395776 -1.699527 -0.007946 -0.928672  0.213013   \n",
      "132261 -1.858286  2.080363  0.401418 -0.733879  0.566505  1.310609 -0.556599   \n",
      "17630  -0.509292  1.871228  0.789716  0.677913  2.435246 -1.252302  3.005140   \n",
      "1391   -1.149423 -0.017161  2.044913 -1.727736 -0.729287  0.190900 -0.073947   \n",
      "...          ...       ...       ...       ...       ...       ...       ...   \n",
      "247005  1.991459 -1.513571  0.153324 -0.638697 -1.572425  0.534447 -1.586709   \n",
      "222530  1.942867  0.021069 -0.930146  1.456511  0.101243 -0.438993  0.120942   \n",
      "216270 -2.985493  0.450019  1.957538  0.403952 -1.996407  1.624993 -1.181331   \n",
      "240592  0.029729  0.911063  0.320229 -0.586219  0.512901 -1.129687  1.048372   \n",
      "171472 -1.722921  0.631879 -1.700029 -0.116916  1.288012 -2.311878  0.672396   \n",
      "\n",
      "              V8        V9       V10  ...       V20       V21       V22  \\\n",
      "162208 -0.431947 -1.945307  0.562295  ...  3.960626  1.382471 -0.275392   \n",
      "99864   0.152196 -1.581540  0.540804  ...  0.108491  0.401903  1.132000   \n",
      "132261 -2.844359 -0.020387  0.691531  ... -0.242061  2.760353 -1.647910   \n",
      "17630  -2.272412  0.395945  0.389462  ...  0.523323 -0.310341  0.263718   \n",
      "1391   -0.007680 -0.291318  0.865103  ...  0.160204  0.338917  1.447314   \n",
      "...          ...       ...       ...  ...       ...       ...       ...   \n",
      "247005  0.224660  1.001748  0.430872  ... -0.427452 -0.452004 -0.517595   \n",
      "222530 -0.196599  0.557443  0.117437  ... -0.188087  0.147341  0.715905   \n",
      "216270  0.957507  0.903097  1.842146  ... -0.005324 -0.455106  0.222240   \n",
      "240592 -0.256519 -0.178779 -0.433135  ...  0.020913 -0.248707 -0.497148   \n",
      "171472  0.212059 -1.119298 -0.456070  ... -0.228392  0.413619  1.125533   \n",
      "\n",
      "             V23       V24       V25       V26       V27       V28   Amount  \n",
      "162208 -1.886600 -1.258827 -0.727757 -0.042895 -0.383807  0.289842  2219.50  \n",
      "99864  -0.085286  0.260568  0.021244 -0.290277 -0.122060 -0.202382    29.95  \n",
      "132261  0.295945 -1.406864  0.089453  0.199926  0.631080  0.260902     9.80  \n",
      "17630  -0.558013  0.301979 -0.224335 -0.692899 -2.095776 -1.569406     1.00  \n",
      "1391   -0.325727  0.277069 -0.132446 -0.297372 -0.629240 -0.521018    35.79  \n",
      "...          ...       ...       ...       ...       ...       ...      ...  \n",
      "247005  0.370351  0.666263 -0.697448  1.130326 -0.015271 -0.030056    54.90  \n",
      "222530  0.075827  1.127156  0.309292 -0.519325  0.024502 -0.035658    20.00  \n",
      "216270 -0.526274 -0.313530  0.757587 -0.152391  0.566983  0.728254   100.00  \n",
      "240592  0.059827  0.064299 -0.459635  0.134787  0.252916  0.099810     0.99  \n",
      "171472 -0.748986  0.230572  0.089357  0.992974  0.142010 -0.226960    14.50  \n",
      "\n",
      "[199364 rows x 29 columns]\n",
      "---------------------------------------------------------------------------------------------\n",
      "              V1        V2        V3        V4        V5        V6        V7  \\\n",
      "182477 -0.079293  0.620156 -0.277637 -1.081832  1.030459  0.025518  0.897631   \n",
      "18698  -0.458333  0.713923  2.705332  0.622469 -0.160422  0.534404  0.184096   \n",
      "147730 -0.638632  1.287171 -1.115650  0.877289  1.176621 -0.656173  1.782071   \n",
      "77824   1.053358 -0.017899  0.908670  1.163278 -0.620173  0.036819 -0.438885   \n",
      "174633  1.973075 -1.799441 -0.530723 -1.232749 -1.902775 -1.097945 -1.000298   \n",
      "...          ...       ...       ...       ...       ...       ...       ...   \n",
      "160938  0.148424  0.966927 -0.405565 -0.522133  0.786155 -0.891101  0.899568   \n",
      "80939  -0.870428 -0.157672  0.669981 -2.092172  0.534951 -0.309423  0.573602   \n",
      "283237 -0.509841  1.716584 -1.352856  0.849534  1.459467  0.054881  1.134375   \n",
      "148222 -0.604753  1.470056 -0.305766 -0.876919  0.916493 -0.650211  1.338045   \n",
      "121384 -1.537727  0.184808  1.230024 -4.131667 -0.723139 -0.954500  0.073404   \n",
      "\n",
      "              V8        V9       V10  ...       V20       V21       V22  \\\n",
      "182477 -0.012544  0.518338  0.344266  ...  0.049217 -0.404906 -0.897124   \n",
      "18698  -0.009438 -0.006678 -0.263005  ...  0.243378  0.217820  0.845721   \n",
      "147730 -0.022012 -1.535403 -0.442048  ...  0.092348  0.488355  1.195434   \n",
      "77824   0.241501  0.106285  0.170731  ... -0.156263  0.222193  0.592986   \n",
      "174633 -0.321104 -1.170220  1.470189  ... -0.123290 -0.022683  0.175212   \n",
      "...          ...       ...       ...  ...       ...       ...       ...   \n",
      "160938 -0.050488  0.119010 -0.800662  ... -0.058874 -0.352799 -0.917727   \n",
      "80939  -0.229250 -1.181188  0.885947  ...  0.501708  0.185415  0.762815   \n",
      "283237  0.376922 -1.188395 -0.715444  ...  0.150901  0.101940  0.398341   \n",
      "148222 -0.527047  0.740689  1.523213  ...  0.681202  0.190701  1.413189   \n",
      "121384  0.019910  0.448699 -0.018108  ... -0.381546 -0.224232  0.085494   \n",
      "\n",
      "             V23       V24       V25       V26       V27       V28  Amount  \n",
      "182477 -0.087288 -1.526659 -0.408698  0.196557  0.171634 -0.090751   12.99  \n",
      "18698  -0.460375 -0.415975  0.305558 -0.099907 -0.031374 -0.131909   22.85  \n",
      "147730 -0.304253  0.653681  0.779248 -0.066008 -0.045186  0.061676  106.00  \n",
      "77824  -0.042950  0.203943  0.347245 -0.290584  0.046339  0.022936   30.00  \n",
      "174633  0.179452  0.463949 -0.371656 -0.221615  0.004357 -0.013983  158.00  \n",
      "...          ...       ...       ...       ...       ...       ...     ...  \n",
      "160938  0.110387  0.599067 -0.465846  0.113137  0.215757  0.082221    1.79  \n",
      "80939  -0.206027 -0.803978  0.158909 -0.288573  0.302547  0.076267   79.90  \n",
      "283237 -0.238814 -0.075658  0.153208 -0.385866  0.313582  0.207749   44.98  \n",
      "148222 -0.217629 -0.361587 -0.627452 -0.254464  0.603272  0.103306    0.89  \n",
      "121384 -0.176564 -0.003926  0.340844 -0.213676  0.309495  0.272059   15.21  \n",
      "\n",
      "[85443 rows x 29 columns]\n"
     ]
    }
   ],
   "source": [
    "#6)feature scaling\n",
    "sc = StandardScaler()\n",
    "x_train = sc.fit_transform(X_train)\n",
    "x_test = sc.transform(X_test)\n",
    "\n",
    "print(X_train)\n",
    "print(\"---------------------------------------------------------------------------------------------\")\n",
    "print(X_test)"
   ]
  },
  {
   "cell_type": "code",
   "execution_count": 15,
   "id": "03ee95d0",
   "metadata": {},
   "outputs": [],
   "source": [
    "#7)using particular algorithm(Logistic Regression)\n",
    "clf = LogisticRegression()"
   ]
  },
  {
   "cell_type": "code",
   "execution_count": 16,
   "id": "7c4b7f2d",
   "metadata": {},
   "outputs": [
    {
     "name": "stderr",
     "output_type": "stream",
     "text": [
      "C:\\Users\\JAYAVARDHAN SWARNA\\anaconda3\\lib\\site-packages\\sklearn\\linear_model\\_logistic.py:763: ConvergenceWarning: lbfgs failed to converge (status=1):\n",
      "STOP: TOTAL NO. of ITERATIONS REACHED LIMIT.\n",
      "\n",
      "Increase the number of iterations (max_iter) or scale the data as shown in:\n",
      "    https://scikit-learn.org/stable/modules/preprocessing.html\n",
      "Please also refer to the documentation for alternative solver options:\n",
      "    https://scikit-learn.org/stable/modules/linear_model.html#logistic-regression\n",
      "  n_iter_i = _check_optimize_result(\n"
     ]
    },
    {
     "data": {
      "text/plain": [
       "LogisticRegression()"
      ]
     },
     "execution_count": 16,
     "metadata": {},
     "output_type": "execute_result"
    }
   ],
   "source": [
    "#8)Training the model\n",
    "clf.fit(X_train, y_train)"
   ]
  },
  {
   "cell_type": "code",
   "execution_count": 17,
   "id": "3ea53735",
   "metadata": {},
   "outputs": [
    {
     "data": {
      "text/plain": [
       "array([\"'0'\", \"'0'\", \"'0'\", ..., \"'0'\", \"'0'\", \"'0'\"], dtype=object)"
      ]
     },
     "execution_count": 17,
     "metadata": {},
     "output_type": "execute_result"
    }
   ],
   "source": [
    "#9)predicting the model through testing\n",
    "y_pred = clf.predict(X_test)\n",
    "y_pred"
   ]
  },
  {
   "cell_type": "code",
   "execution_count": 18,
   "id": "56da408e",
   "metadata": {},
   "outputs": [
    {
     "data": {
      "text/plain": [
       "182477    '0'\n",
       "18698     '0'\n",
       "147730    '0'\n",
       "77824     '0'\n",
       "174633    '0'\n",
       "         ... \n",
       "160938    '0'\n",
       "80939     '0'\n",
       "283237    '0'\n",
       "148222    '0'\n",
       "121384    '0'\n",
       "Name: Class, Length: 85443, dtype: object"
      ]
     },
     "execution_count": 18,
     "metadata": {},
     "output_type": "execute_result"
    }
   ],
   "source": [
    "#10)comparing the predicted o/p & actual excel o/p   (9th point vs 10th point)\n",
    "y_test"
   ]
  },
  {
   "cell_type": "code",
   "execution_count": 20,
   "id": "cdd4e9a1",
   "metadata": {},
   "outputs": [
    {
     "name": "stdout",
     "output_type": "stream",
     "text": [
      "[\"'0'\"] ==  You are not a fraud, Don't worry, Go to the airport!!!!!!😊 😊 😊 😊 😊\n"
     ]
    }
   ],
   "source": [
    "#10)comparing the predicted o/p & actual excel o/p   (9th point vs 10th point)\n",
    "a = clf.predict([[-1.359807134, -0.072781173, 2.536346738, 1.378155224, -0.33832077, 0.462387778, 0.239598554, 0.098697901\n",
    ",0.36378697, 0.090794172, -0.551599533, -0.617800856, -0.991389847, -0.311169354, 1.468176972, -0.470400525, 0.207971242,\n",
    "0.02579058, 0.40399296, 0.251412098,-0.018306778, 0.277837576, -0.11047391, 0.066928075, 0.128539358, -0.189114844, 0.133558377,\n",
    "-0.021053053, 149.62]])\n",
    "if a == ([\"'0'\"]):\n",
    "    print(a, \"==\" ,\" You are not a fraud, Don't worry, Go to the airport!!!!!!😊 😊 😊 😊 😊\")\n",
    "else:\n",
    "    print(a, \"==\" , \"You are a fraud, Do worry, police take him to custody!!!!!!😠 😠 😠 😠 😠 \")"
   ]
  },
  {
   "cell_type": "code",
   "execution_count": 21,
   "id": "2bb11d75",
   "metadata": {},
   "outputs": [
    {
     "name": "stdout",
     "output_type": "stream",
     "text": [
      "[\"'1'\"] == You are a fraud, Do worry, police take him to custody!!!!!! 😠 😠 😠 😠 😠 \n"
     ]
    }
   ],
   "source": [
    "#10)comparing the predicted o/p & actual excel o/p   (9th point vs 10th point)\n",
    "b = clf.predict([[-10.359807134, -01.072781173, 12.536346738, 11.378155224, -0.33832077, 0.462387778, 0.239598554, 0.098697901\n",
    ",10.36378697, 10.090794172, -0.551599533, -10.617800856, -0.991389847, -10.311169354, 1.468176972, -0.470400525, 0.207971242,\n",
    "10.02579058, 0.40399296, 10.951412098,-10.918306778, 0.277837576, -0.11047391, 10.066928075, 10.128539358, -0.189114844, 0.133558377,\n",
    "-0.021053053, 149.62]])\n",
    "if b == ([\"'0'\"]):\n",
    "    print(b, \"==\",\" You are not a fraud, Don't worry, Go to the airport!!!!!!😊 😊 😊 😊 😊\")\n",
    "else:\n",
    "    print(b, \"==\", \"You are a fraud, Do worry, police take him to custody!!!!!! 😠 😠 😠 😠 😠 \")"
   ]
  },
  {
   "cell_type": "code",
   "execution_count": 26,
   "id": "f51e5bac",
   "metadata": {},
   "outputs": [
    {
     "name": "stdout",
     "output_type": "stream",
     "text": [
      "[[85293    14]\n",
      " [   51    85]]\n"
     ]
    },
    {
     "data": {
      "text/plain": [
       "0.9992392589211521"
      ]
     },
     "execution_count": 26,
     "metadata": {},
     "output_type": "execute_result"
    }
   ],
   "source": [
    "#11)confusion matrix\n",
    "from sklearn.metrics import confusion_matrix, accuracy_score\n",
    "print(confusion_matrix(y_test,y_pred))\n",
    "accuracy_score(y_test,y_pred)\n"
   ]
  },
  {
   "cell_type": "code",
   "execution_count": 64,
   "id": "376a4c63",
   "metadata": {},
   "outputs": [
    {
     "name": "stdout",
     "output_type": "stream",
     "text": [
      "Confusion Matrix:\n",
      "\n",
      " [[85293    14]\n",
      " [   51    85]] \n",
      "\n",
      "Accuracy: 0.9992392589211521\n",
      "Precision: 0.9998358868557093\n",
      "Recall: 0.9994024184476941\n"
     ]
    }
   ],
   "source": [
    "#11)confusion matrix\n",
    "cm = (metrics.confusion_matrix(y_test, y_pred))\n",
    "print(\"Confusion Matrix:\\n\\n\",cm,\"\\n\")\n",
    "\n",
    "accuracy=(cm[0][0]+cm[1][1])/(cm[0][0]+cm[1][1]+cm[0][1]+cm[1] [0])\n",
    "print(\"Accuracy:\",accuracy)\n",
    "\n",
    "precision=(cm[0][0])/(cm[0][0]+cm[0][1])\n",
    "print(\"Precision:\",precision)\n",
    "\n",
    "Recall=(cm[0][0])/(cm[0][0]+cm[1][0])\n",
    "print(\"Recall:\",Recall)"
   ]
  },
  {
   "cell_type": "code",
   "execution_count": 27,
   "id": "0605def4",
   "metadata": {},
   "outputs": [
    {
     "name": "stdout",
     "output_type": "stream",
     "text": [
      "              precision    recall  f1-score   support\n",
      "\n",
      "         '0'       1.00      1.00      1.00     85307\n",
      "         '1'       0.86      0.62      0.72       136\n",
      "\n",
      "    accuracy                           1.00     85443\n",
      "   macro avg       0.93      0.81      0.86     85443\n",
      "weighted avg       1.00      1.00      1.00     85443\n",
      "\n"
     ]
    }
   ],
   "source": [
    "#12)classification report\n",
    "print(classification_report(y_test, y_pred))"
   ]
  },
  {
   "cell_type": "code",
   "execution_count": 29,
   "id": "e2c5c3d7",
   "metadata": {},
   "outputs": [
    {
     "data": {
      "image/png": "[encoded data removed]",
      "text/plain": [
       "<Figure size 504x288 with 2 Axes>"
      ]
     },
     "metadata": {
      "needs_background": "light"
     },
     "output_type": "display_data"
    },
    {
     "name": "stdout",
     "output_type": "stream",
     "text": [
      "       Actual Predicted\n",
      "43428     '1'       '1'\n",
      "49906     '0'       '0'\n",
      "29474     '0'       '0'\n",
      "276481    '0'       '0'\n",
      "278846    '0'       '0'\n"
     ]
    }
   ],
   "source": [
    "#13)heat map for confusion matrix\n",
    "fig, ax = plt.subplots(figsize=(7,4))\n",
    "sns.heatmap(cm, annot=True, fmt='d')\n",
    "plt.show()#print the actual and predicted labels\n",
    "df1 = pd.DataFrame({'Actual':y_test, 'Predicted': y_pred})\n",
    "print(df1.head(5))"
   ]
  },
  {
   "cell_type": "code",
   "execution_count": null,
   "id": "7bf05438",
   "metadata": {},
   "outputs": [],
   "source": []
  },
  {
   "cell_type": "code",
   "execution_count": 30,
   "id": "2a9208d4",
   "metadata": {},
   "outputs": [],
   "source": [
    "#Build the model 2 (Random Forest)\n",
    "random_forest = RandomForestClassifier(n_estimators = 5)"
   ]
  },
  {
   "cell_type": "code",
   "execution_count": 31,
   "id": "7b4ea276",
   "metadata": {},
   "outputs": [
    {
     "data": {
      "text/plain": [
       "RandomForestClassifier(n_estimators=5)"
      ]
     },
     "execution_count": 31,
     "metadata": {},
     "output_type": "execute_result"
    }
   ],
   "source": [
    "# Train the classifier\n",
    "random_forest.fit(X_train, y_train)"
   ]
  },
  {
   "cell_type": "code",
   "execution_count": 32,
   "id": "1f0c9601",
   "metadata": {},
   "outputs": [],
   "source": [
    "#test the model\n",
    "y_pred = random_forest.predict(X_test)"
   ]
  },
  {
   "cell_type": "code",
   "execution_count": 33,
   "id": "44e6ee8b",
   "metadata": {},
   "outputs": [
    {
     "name": "stdout",
     "output_type": "stream",
     "text": [
      "Confusion Matrix:\n",
      "\n",
      " [[85294    13]\n",
      " [   27   109]] \n",
      "\n",
      "[[85294    13]\n",
      " [   27   109]]\n",
      "Accuracy: 0.9995318516437859\n",
      "Precision: 0.9998476092231587\n",
      "Recall: 0.9996835480127987\n"
     ]
    }
   ],
   "source": [
    "#confusion matrix\n",
    "cm = (metrics.confusion_matrix(y_test, y_pred))\n",
    "print(\"Confusion Matrix:\\n\\n\",cm,\"\\n\")\n",
    "print(cm)\n",
    "accuracy=(cm[0][0]+cm[1][1])/(cm[0][0]+cm[1][1]+cm[0][1]+cm[1] [0])\n",
    "print(\"Accuracy:\",accuracy)\n",
    "precision=(cm[0][0])/(cm[0][0]+cm[0][1])\n",
    "print(\"Precision:\",precision)\n",
    "Recall=(cm[0][0])/(cm[0][0]+cm[1][0])\n",
    "print(\"Recall:\",Recall)"
   ]
  },
  {
   "cell_type": "code",
   "execution_count": 34,
   "id": "4e1665bf",
   "metadata": {},
   "outputs": [
    {
     "name": "stdout",
     "output_type": "stream",
     "text": [
      "              precision    recall  f1-score   support\n",
      "\n",
      "         '0'       1.00      1.00      1.00     85307\n",
      "         '1'       0.89      0.80      0.84       136\n",
      "\n",
      "    accuracy                           1.00     85443\n",
      "   macro avg       0.95      0.90      0.92     85443\n",
      "weighted avg       1.00      1.00      1.00     85443\n",
      "\n"
     ]
    }
   ],
   "source": [
    "#classification report\n",
    "print(classification_report(y_test, y_pred))"
   ]
  },
  {
   "cell_type": "code",
   "execution_count": 35,
   "id": "dcb8aff8",
   "metadata": {},
   "outputs": [
    {
     "name": "stdout",
     "output_type": "stream",
     "text": [
      "Accuracy score: 1.0\n"
     ]
    }
   ],
   "source": [
    "#Accuracy score \n",
    "a= (metrics.accuracy_score(y_test, y_pred))\n",
    "print(\"Accuracy score:\",round(a,1)) "
   ]
  },
  {
   "cell_type": "code",
   "execution_count": 36,
   "id": "a4a65068",
   "metadata": {},
   "outputs": [
    {
     "data": {
      "image/png": "[encoded data removed]",
      "text/plain": [
       "<Figure size 504x288 with 2 Axes>"
      ]
     },
     "metadata": {
      "needs_background": "light"
     },
     "output_type": "display_data"
    }
   ],
   "source": [
    "#heat map for confusion matrix\n",
    "fig, ax = plt.subplots(figsize=(7,4))\n",
    "sns.heatmap(cm, annot=True, fmt='d')\n",
    "plt.show()"
   ]
  },
  {
   "cell_type": "code",
   "execution_count": 37,
   "id": "84651771",
   "metadata": {},
   "outputs": [
    {
     "name": "stdout",
     "output_type": "stream",
     "text": [
      "       Actual Predicted\n",
      "43428     '1'       '1'\n",
      "49906     '0'       '0'\n",
      "29474     '0'       '0'\n",
      "276481    '0'       '0'\n",
      "278846    '0'       '0'\n"
     ]
    }
   ],
   "source": [
    "#print the actual and predicted labels\n",
    "df1 = pd.DataFrame({'Actual':y_test, 'Predicted': y_pred}) \n",
    "print(df1.head(5))"
   ]
  },
  {
   "cell_type": "code",
   "execution_count": null,
   "id": "fac5462d",
   "metadata": {},
   "outputs": [],
   "source": [
    "\"\"\"\"\"\"\"\"\"\"\"\"\"\"\"\"\"\"\"\"\"\"\"\"\"\"\"\"\"\"\"\"\"\"\"\"\"\"\"\"\"THE END\"\"\"\"\"\"\"\"\"\"\"\"\"\"\"\"\"\"\"\"\"\"\"\"\"\"\"\"\"\"\"\"\"\"\"\"\"\"\"\"\"\"\"\"\"\"\"\"\"\"\"\"\"\""
   ]
  },
  {
   "cell_type": "code",
   "execution_count": 1,
   "id": "fdf38268",
   "metadata": {},
   "outputs": [
    {
     "name": "stdout",
     "output_type": "stream",
     "text": [
      "enter the path...\"C:\\\\Users\\\\JAYAVARDHAN SWARNA\\\\OneDrive\\\\Pictures\\\\Saved Pictures\\\\IMG_20210421_102251.jpg\"\n"
     ]
    },
    {
     "ename": "error",
     "evalue": "OpenCV(4.5.5) D:\\a\\opencv-python\\opencv-python\\opencv\\modules\\imgproc\\src\\color.cpp:182: error: (-215:Assertion failed) !_src.empty() in function 'cv::cvtColor'\n",
     "output_type": "error",
     "traceback": [
      "\u001b[1;31m---------------------------------------------------------------------------\u001b[0m",
      "\u001b[1;31merror\u001b[0m                                     Traceback (most recent call last)",
      "\u001b[1;32m<ipython-input-1-874141e32873>\u001b[0m in \u001b[0;36m<module>\u001b[1;34m\u001b[0m\n\u001b[0;32m      3\u001b[0m \u001b[0mpath\u001b[0m \u001b[1;33m=\u001b[0m \u001b[0minput\u001b[0m\u001b[1;33m(\u001b[0m\u001b[1;34m\"enter the path...\"\u001b[0m\u001b[1;33m)\u001b[0m\u001b[1;33m\u001b[0m\u001b[1;33m\u001b[0m\u001b[0m\n\u001b[0;32m      4\u001b[0m \u001b[0mimage\u001b[0m \u001b[1;33m=\u001b[0m \u001b[0mcv2\u001b[0m\u001b[1;33m.\u001b[0m\u001b[0mimread\u001b[0m\u001b[1;33m(\u001b[0m\u001b[0mpath\u001b[0m\u001b[1;33m)\u001b[0m\u001b[1;33m\u001b[0m\u001b[1;33m\u001b[0m\u001b[0m\n\u001b[1;32m----> 5\u001b[1;33m \u001b[0mcv2\u001b[0m\u001b[1;33m.\u001b[0m\u001b[0mimshow\u001b[0m\u001b[1;33m(\u001b[0m\u001b[1;34m\"nani\"\u001b[0m\u001b[1;33m,\u001b[0m \u001b[0mimage\u001b[0m\u001b[1;33m)\u001b[0m\u001b[1;33m\u001b[0m\u001b[1;33m\u001b[0m\u001b[0m\n\u001b[0m\u001b[0;32m      6\u001b[0m \u001b[0mcv2\u001b[0m\u001b[1;33m.\u001b[0m\u001b[0mwaitKey\u001b[0m\u001b[1;33m(\u001b[0m\u001b[1;36m0\u001b[0m\u001b[1;33m)\u001b[0m\u001b[1;33m\u001b[0m\u001b[1;33m\u001b[0m\u001b[0m\n\u001b[0;32m      7\u001b[0m \u001b[1;33m\u001b[0m\u001b[0m\n",
      "\u001b[1;31merror\u001b[0m: OpenCV(4.5.5) D:\\a\\opencv-python\\opencv-python\\opencv\\modules\\imgproc\\src\\color.cpp:182: error: (-215:Assertion failed) !_src.empty() in function 'cv::cvtColor'\n"
     ]
    }
   ],
   "source": [
    "#\"\"\"\"\"\"\"\"\"\"\"\"\"\"\"\"\"\"\"\"\"\"\"\"\"\"\"\"\"\"\"\"\"\"\"face sketches\"\"\"\"\"\"\"\"\"\"\"\"\"\"\"\"\"\"\"\"\"\"\"\"\"\"\"\"\"\"\"\"\"\"\"\"\"\"\"\"\"\"\"\"\"\"\"\"\"\"\"\"\n",
    "import cv2\n",
    "path = input(\"enter the path...\")\n",
    "image = cv2.imread(path)\n",
    "cv2.imshow(\"nani\", image)\n",
    "cv2.waitKey(0)\n",
    "\n",
    "gray_image = cv2.cvtColor(image, cv2.COLOR_BGR2GRAY)\n",
    "cv2.imshow(\"New nani\", gray_image)\n",
    "cv2.waitKey(0)\n",
    "\n",
    "inverted_image = 255 - gray_image\n",
    "cv2.imshow(\"Inverted nani\", inverted_image)\n",
    "cv2.waitKey()\n",
    "\n",
    "blurred = cv2.GaussianBlur(inverted_image, (21, 21), 0)\n",
    "inverted_blurred = 255 - blurred\n",
    "pencil_sketch = cv2.divide(gray_image, inverted_blurred, scale=256.0)\n",
    "cv2.imshow(\"Sketch nani\", pencil_sketch)\n",
    "cv2.waitKey(0)\n",
    "\n",
    "cv2.imshow(\"original image nani\", image)\n",
    "cv2.imshow(\"pencil sketch nani\", pencil_sketch)\n",
    "cv2.waitKey(0)"
   ]
  },
  {
   "cell_type": "code",
   "execution_count": null,
   "id": "bb27b263",
   "metadata": {},
   "outputs": [],
   "source": [
    "\"\"\"\"\"\"\"\"\"\"\"\"\"\"\"\"\"\"\"\"\"\"\"\"\"\"\"\"\"\"\"\"\"\"\"\"\"\"\"Mini Project\"\"\"\"\"\"\"\"\"\"\"\"\"\"\"\"\"\"\"\"\"\"\"\"\"\"\"\"\"\"\"\"\"\"\"\"\"\"\"\"\"\"\"\"\"\"\"\"\"\"\""
   ]
  },
  {
   "cell_type": "code",
   "execution_count": 3,
   "id": "90bdd7b8",
   "metadata": {},
   "outputs": [],
   "source": [
    "#\"\"\"\"\"\"\"\"\"\"\"\"\"\"\"\"\"\"\"\"\"\"\"\"\"\"\"\"\"\"\"\"\"\"\"\"\"\"\"\"\"\"\"\"\"\"\"\"\"\"'ocr\"\"\"\"\"\"\"\"\"\"\"\"\"\"\"\"\"\"\"\"\"\"\"\"\"\"\"\"\"\"\"\"\"\"\"\"\"\"\"\"\"\"\"\"\"\"'\n",
    "import pytesseract\n",
    "import PIL.Image\n",
    "import tkinter\n",
    "from tkinter import filedialog\n",
    "\n",
    "def openFile():\n",
    "    path = filedialog.askopenfilename()\n",
    "    pytesseract.pytesseract.tesseract_cmd = r'D:\\Python\\python installation 3.7.9\\tesseract in jupyter\\tesseract.exe'\n",
    "    img = PIL.Image.open(path)\n",
    "    textt = pytesseract.image_to_string(img)\n",
    "    print(textt)\n",
    "    l1 = Label(window, text=textt, width=30).place(x=80, y=100)\n",
    "    \n",
    "window = Tk()\n",
    "window.title(\"OCR\")\n",
    "window.geometry(\"400x400\")\n",
    "button = Button(text=\"Open\",width = 25,fg=\"orange\", bg=\"yellow\", font=(\"arial\", 20, \"bold\"),command=openFile)\n",
    "button.place(x=10, y=10)\n",
    "\n",
    "window.mainloop()"
   ]
  },
  {
   "cell_type": "code",
   "execution_count": null,
   "id": "52371f47",
   "metadata": {},
   "outputs": [],
   "source": [
    "#\"\"\"\"\"\"\"\"\"\"\"\"\"\"\"\"\"\"\"\"\"\"\"\"\"\"\"\"\"\"\"\"\"\"\"\"\"\"text to audiobook\"\"\"\"\"\"\"\"\"\"\"\"\"\"\"\"\"\"\"\"\"\"\"\"\"\"\"\"\"\"\"\"\"\"\"\"''''''''''''\"\"'\n",
    "import PyPDF2\n",
    "pdfReader = PyPDF2.PdfFileReader(open('D:\\\\babby c languag\\\\Assignment-7(S.Nithin Sai)-converted.pdf', 'rb'))\n",
    "import pyttsx3\n",
    "speaker = pyttsx3.init()\n",
    "for page_num in range(pdfReader.numPages):\n",
    "    text =  pdfReader.getPage(page_num).extractText()\n",
    "    speaker.say(text)\n",
    "    speaker.runAndWait()\n",
    "speaker.stop()\n",
    "engine.save_to_file(text, 'audio.mp3')\n",
    "engine.runAndWait()"
   ]
  },
  {
   "cell_type": "code",
   "execution_count": 55,
   "id": "70bc438a",
   "metadata": {},
   "outputs": [
    {
     "name": "stdout",
     "output_type": "stream",
     "text": [
      "C:/Users/JAYAVARDHAN SWARNA/OneDrive/Pictures/Camera Roll/WIN_20211009_07_44_01_Pro.jpg\n"
     ]
    }
   ],
   "source": [
    "file = filedialog.askopenfilename()\n",
    "print(file)"
   ]
  },
  {
   "cell_type": "code",
   "execution_count": 1,
   "id": "f7bf5e43",
   "metadata": {},
   "outputs": [
    {
     "name": "stderr",
     "output_type": "stream",
     "text": [
      "Exception in Tkinter callback\n",
      "Traceback (most recent call last):\n",
      "  File \"C:\\Users\\JAYAVARDHAN SWARNA\\anaconda3\\lib\\tkinter\\__init__.py\", line 1892, in __call__\n",
      "    return self.func(*args)\n",
      "  File \"<ipython-input-1-9a0afa282b82>\", line 108, in facesketches\n",
      "    cv2.imshow(\"nani\", image)\n",
      "cv2.error: OpenCV(4.5.5) D:\\a\\opencv-python\\opencv-python\\opencv\\modules\\imgproc\\src\\color.cpp:182: error: (-215:Assertion failed) !_src.empty() in function 'cv::cvtColor'\n",
      "\n"
     ]
    }
   ],
   "source": [
    "from tkinter import *\n",
    "root=Tk()\n",
    "from PIL import Image, ImageTk\n",
    "\n",
    "root.title(\"MINI PROJECT\")\n",
    "root.geometry(\"1000x600\")\n",
    "\n",
    "def Exitt():\n",
    "    exit()\n",
    "\n",
    "\n",
    "def imgtotext():\n",
    "#\"\"\"\"\"\"\"\"\"\"\"\"\"\"\"\"\"\"\"\"\"\"\"\"\"\"\"\"\"\"\"\"\"\"\"\"\"\"\"\"\"\"\"\"\"\"A.ocr\"\"\"\"\"\"\"\"\"\"\"\"\"\"\"\"\"\"\"\"\"\"\"\"\"\"\"\"\"\"\"\"\"\"\"\"\"\"\"\"\"\"\"\"\"\"\"\"\"\"\n",
    "    import pytesseract\n",
    "    import PIL.Image\n",
    "    import tkinter\n",
    "    from tkinter import filedialog\n",
    "    \n",
    "    window = Tk()\n",
    "    window.title(\"OCR\")\n",
    "    window.geometry(\"400x400\")\n",
    "\n",
    "    def opennFile():\n",
    "        path = filedialog.askopenfilename()\n",
    "        pytesseract.pytesseract.tesseract_cmd = r'D:\\Python\\python installation 3.7.9\\tesseract in jupyter\\tesseract.exe'\n",
    "        img = PIL.Image.open(path)\n",
    "        textt = pytesseract.image_to_string(img)\n",
    "        #print(textt)\n",
    "        l1 = Label(window, text=textt, width=30).place(x=80, y=100)\n",
    "    \n",
    "    \n",
    "    b1 = Button(window, text=\"Open\", width = 10, fg=\"orange\", bg=\"yellow\", font=(\"arial\", 20, \"bold\"), command=opennFile)\n",
    "    b1.place(x=110, y=10)\n",
    "\n",
    "    window.mainloop()\n",
    "#\"\"\"\"\"\"\"\"\"\"\"\"\"\"\"\"\"\"\"\"\"\"\"\"\"\"\"\"\"\"\"\"\"\"\"\"\"\"\"\"\"\"\"\"\"\"z.ocr\"\"\"\"\"\"\"\"\"\"\"\"\"\"\"\"\"\"\"\"\"\"\"\"\"\"\"\"\"\"\"\"\"\"\"\"\"\"\"\"\"\"\"\"\"\"\"\"\"\"\n",
    "def alarmclock():\n",
    "#\"\"\"\"\"\"\"\"\"\"\"\"\"\"\"\"\"\"\"\"\"\"\"\"\"\"\"\"\"\"\"\"\"\"\"\"\"\"\"\"\"A.alarm clock\"\"\"\"\"\"\"\"\"\"\"\"\"\"\"\"\"\"\"\"\"\"\"\"\"\"\"\"\"\"\"\"\"\"\"\"\"\"\"\"\"\"\"\"\"\"\"\"\"\n",
    "    from tkinter import Label, Tk \n",
    "    import time\n",
    "    app_window = Tk() \n",
    "    app_window.title(\"Digital Clock\") \n",
    "    app_window.geometry(\"420x150\") \n",
    "    app_window.resizable(1,1)\n",
    "\n",
    "    text_font= (\"Boulder\", 68, 'bold')\n",
    "    background = \"#f2e750\"\n",
    "    foreground= \"#363529\"\n",
    "    border_width = 25\n",
    "\n",
    "    label = Label(app_window, font=text_font, bg=background, fg=foreground, bd=border_width) \n",
    "    label.grid(row=0, column=1)\n",
    "\n",
    "    def digital_clock(): \n",
    "        time_live = time.strftime(\"%H:%M:%S\")\n",
    "        label.config(text=time_live) \n",
    "        label.after(200, digital_clock)\n",
    "\n",
    "    digital_clock()\n",
    "    app_window.mainloop()\n",
    "#\"\"\"\"\"\"\"\"\"\"\"\"\"\"\"\"\"\"\"\"\"\"\"\"\"\"\"\"\"\"\"\"\"\"\"\"\"\"\"\"\"\"\"\"\"\"\"\"z.alarm clock\"\"\"\"\"\"\"\"\"\"\"\"\"\"\"\"\"\"\"\"\"\"\"\"\"\"\"\"\"\"\"\"\"\"\"\"\"\"\"\"\"''\n",
    "\n",
    "\n",
    "#\"\"\"\"\"\"\"\"\"\"\"\"\"\"\"\"\"\"\"\"\"\"\"\"\"\"\"\"\"\"\"\"\"\"\"\"\"\"\"\"\"\"\"\"\"\"\"A.CALENDAR\"\"\"\"\"\"\"\"\"\"\"\"\"\"\"\"\"\"\"\"\"\"\"\"\"\"\"\"\"\"\"\"\"\"\"\"\"\"\"\"\"\"\"\"\"\"\"\n",
    "def calender():    \n",
    "    #from tkinter import *\n",
    "    import calendar\n",
    "\n",
    "    #function to show calendar of the given year\n",
    "    def showCalender():\n",
    "        gui = Tk()\n",
    "        gui.config(background='grey')\n",
    "        gui.title(\"Calender for the year\")\n",
    "        gui.geometry(\"550x600\")\n",
    "        year = int(year_field.get())\n",
    "        gui_content= calendar.calendar(year)\n",
    "        calYear = Label(gui, text= gui_content, font= \"Consolas 10 bold\")\n",
    "        calYear.grid(row=5, column=1,padx=20)\n",
    "        gui.mainloop()\n",
    "    \n",
    "    #Driver code\n",
    "    if __name__=='__main__':\n",
    "        new = Tk()\n",
    "        new.config(background='grey')\n",
    "        new.title(\"Calender\")\n",
    "        new.geometry(\"250x140\")\n",
    "        cal = Label(new, text=\"Calender\",bg='grey',font=(\"times\", 28, \"bold\"))\n",
    "        year = Label(new, text=\"Enter year\", bg='dark grey')\n",
    "        year_field=Entry(new)\n",
    "        button = Button(new, text='Show Calender',\n",
    "    fg='Black',bg='Blue',command=showCalender)\n",
    "\n",
    "        #putting widgets in position\n",
    "        cal.grid(row=1, column=1)\n",
    "        year.grid(row=2, column=1)\n",
    "        year_field.grid(row=3, column=1)\n",
    "        button.grid(row=4, column=1)\n",
    "        #Exit.grid(row=6, column=1)\n",
    "        new.mainloop()\n",
    "#\"\"\"\"\"\"\"\"\"\"\"\"\"\"\"\"\"\"\"\"\"\"\"\"\"\"\"\"\"\"\"\"\"\"\"\"\"\"\"\"\"\"\"\"z.CALENDAR\"\"\"\"\"\"\"\"\"\"\"\"\"\"\"\"\"\"\"\"\"\"\"\"\"\"\"\"\"\"\"\"\"\"\"\"\"\"\"\"\"\"\"\"'\"\"'\n",
    "\n",
    "#\"\"\"\"\"\"\"\"\"\"\"\"\"\"\"\"\"\"\"\"\"\"\"\"\"\"\"\"\"\"\"\"\"\"\"\"\"\"\"\"\"\"\"\"A.Face sketches\"\"\"\"\"\"\"\"\"\"\"\"\"\"\"\"\"\"\"\"\"\"\"\"\"\"\"\"\"\"\"\"\"\"\"\"\"\"\"\"\"\"\"\"\"\"\n",
    "def facesketches():\n",
    "    import cv2\n",
    "    from tkinter import filedialog\n",
    "    path = filedialog.askopenfilename()\n",
    "    image = cv2.imread(path)\n",
    "    cv2.imshow(\"nani\", image)\n",
    "    cv2.waitKey(0)\n",
    "\n",
    "    gray_image = cv2.cvtColor(image, cv2.COLOR_BGR2GRAY)\n",
    "    cv2.imshow(\"New nani\", gray_image)\n",
    "    cv2.waitKey(0)\n",
    "\n",
    "    inverted_image = 255 - gray_image\n",
    "    cv2.imshow(\"Inverted nani\", inverted_image)\n",
    "    cv2.waitKey()\n",
    "\n",
    "    blurred = cv2.GaussianBlur(inverted_image, (21, 21), 0)\n",
    "    inverted_blurred = 255 - blurred\n",
    "    pencil_sketch = cv2.divide(gray_image, inverted_blurred, scale=256.0)\n",
    "    cv2.imshow(\"Sketch nani\", pencil_sketch)\n",
    "    cv2.waitKey(0)\n",
    "\n",
    "    cv2.imshow(\"original image nani\", image)\n",
    "    cv2.imshow(\"pencil sketch nani\", pencil_sketch)\n",
    "    cv2.waitKey(0)\n",
    "\n",
    "#\"\"\"\"\"\"\"\"\"\"\"\"\"\"\"\"\"\"\"\"\"\"\"\"\"\"\"\"\"\"\"\"\"\"\"\"\"\"\"\"\"\"\"\"Z.Face sketches\"\"\"\"\"\"\"\"\"\"\"\"\"\"\"\"\"\"\"\"\"\"\"\"\"\"\"\"\"\"\"\"\"\"\"\"\"\"\"\"\"\"\n",
    "def musicplayer():\n",
    "#\"\"\"\"\"\"\"\"\"\"\"\"\"\"\"\"\"\"\"\"\"\"\"\"\"\"\"\"\"\"\"\"\"\"\"\"\"\"\"\"\"\"\"\"\"A.music player\"\"\"\"\"\"\"\"\"\"\"\"\"\"\"\"\"\"\"\"\"\"\"\"\"\"\"\"\"\"\"\"\"\"\"\"\"\"\"\"\"\"\n",
    "    import pygame\n",
    "    import tkinter as tkr\n",
    "    from tkinter.filedialog import askdirectory\n",
    "    import os\n",
    "\n",
    "    music_player = tkr.Tk()\n",
    "    music_player.title(\"My Music Player\")\n",
    "    music_player.geometry(\"450x350\")\n",
    "    directory = askdirectory()\n",
    "    os.chdir(directory)\n",
    "    song_list = os.listdir()\n",
    "\n",
    "    play_list = tkr.Listbox(music_player, font=\"Helvetica 12 bold\", bg='yellow', selectmode=tkr.SINGLE)\n",
    "    for item in song_list:\n",
    "        pos = 0\n",
    "        play_list.insert(pos, item)\n",
    "        pos += 1\n",
    "    pygame.init()\n",
    "    pygame.mixer.init()\n",
    "\n",
    "    def play():\n",
    "        pygame.mixer.music.load(play_list.get(tkr.ACTIVE))\n",
    "        var.set(play_list.get(tkr.ACTIVE))\n",
    "        pygame.mixer.music.play()\n",
    "    def stop():\n",
    "        pygame.mixer.music.stop()\n",
    "    def pause():\n",
    "        pygame.mixer.music.pause()\n",
    "    def unpause():\n",
    "        pygame.mixer.music.unpause()\n",
    "    Button1 = tkr.Button(music_player, width=5, height=3, font=\"Helvetica 12 bold\", text=\"PLAY\", command=play, bg=\"blue\", fg=\"white\")\n",
    "    Button2 = tkr.Button(music_player, width=5, height=3, font=\"Helvetica 12 bold\", text=\"STOP\", command=stop, bg=\"red\", fg=\"white\")\n",
    "    Button3 = tkr.Button(music_player, width=5, height=3, font=\"Helvetica 12 bold\", text=\"PAUSE\", command=pause, bg=\"purple\", fg=\"white\")\n",
    "    Button4 = tkr.Button(music_player, width=5, height=3, font=\"Helvetica 12 bold\", text=\"UNPAUSE\", command=unpause, bg=\"orange\", fg=\"white\")\n",
    "\n",
    "    var = tkr.StringVar() \n",
    "    song_title = tkr.Label(music_player, font=\"Helvetica 12 bold\", textvariable=var)\n",
    "\n",
    "    song_title.pack()\n",
    "    Button1.pack(fill=\"x\")\n",
    "    Button2.pack(fill=\"x\")\n",
    "    Button3.pack(fill=\"x\")\n",
    "    Button4.pack(fill=\"x\")\n",
    "    play_list.pack(fill=\"both\", expand=\"yes\")\n",
    "    music_player.mainloop()\n",
    "#\"\"\"\"\"\"\"\"\"\"\"\"\"\"\"\"\"\"\"\"\"\"\"\"\"\"\"\"\"\"\"\"\"\"\"\"\"\"\"\"\"\"\"\"\"Z.music player\"\"\"\"\"\"\"\"\"\"\"\"\"\"\"\"\"\"\"\"\"\"\"\"\"\"\"\"\"\"\"\"\"\"\"\"\"\"\"\"\"\"\n",
    "#\"\"\"\"\"\"\"\"\"\"\"\"\"\"\"\"\"\"\"\"\"\"\"\"\"\"\"\"\"\"\"\"\"\"\"\"\"\"\"\"\"'A.tic tac toe\"\"\"\"\"\"\"\"\"\"\"\"\"\"\"\"\"\"\"\"\"\"\"\"\"\"\"\"\"\"\"\"\"\"\"\"\"\"\"\"\"\"\"\"\"\"\"\"\"\"\"\n",
    "def tictactoe():\n",
    "    #from tkinter import *\n",
    "    import tkinter\n",
    "    import numpy as np\n",
    "\n",
    "    size_of_board = 600\n",
    "    symbol_size = (size_of_board / 3 - size_of_board / 8) / 2\n",
    "    symbol_thickness = 50\n",
    "    symbol_X_color = '#EE4035'\n",
    "    symbol_O_color = '#0492CF'\n",
    "    Green_color = '#7BC043'\n",
    "\n",
    "\n",
    "    class Tic_Tac_Toe():\n",
    "        # ------------------------------------------------------------------\n",
    "        # Initialization Functions:\n",
    "        # ------------------------------------------------------------------\n",
    "        def __init__(self):\n",
    "            self.window = Tk()\n",
    "            self.window.title('Tic-Tac-Toe')\n",
    "            self.canvas = Canvas(self.window, width=size_of_board, height=size_of_board)\n",
    "            self.canvas.pack()\n",
    "            # Input from user in form of clicks\n",
    "            self.window.bind('<Button-1>', self.click)\n",
    "\n",
    "            self.initialize_board()\n",
    "            self.player_X_turns = True\n",
    "            self.board_status = np.zeros(shape=(3, 3))\n",
    "\n",
    "            self.player_X_starts = True\n",
    "            self.reset_board = False\n",
    "            self.gameover = False\n",
    "            self.tie = False\n",
    "            self.X_wins = False\n",
    "            self.O_wins = False\n",
    "\n",
    "            self.X_score = 0\n",
    "            self.O_score = 0\n",
    "            self.tie_score = 0\n",
    "\n",
    "        def mainloop(self):\n",
    "            self.window.mainloop()\n",
    "\n",
    "        def initialize_board(self):\n",
    "            for i in range(2):\n",
    "                self.canvas.create_line((i + 1) * size_of_board / 3, 0, (i + 1) * size_of_board / 3, size_of_board)\n",
    "\n",
    "            for i in range(2):\n",
    "                self.canvas.create_line(0, (i + 1) * size_of_board / 3, size_of_board, (i + 1) * size_of_board / 3)\n",
    "\n",
    "        def play_again(self):\n",
    "            self.initialize_board()\n",
    "            self.player_X_starts = not self.player_X_starts\n",
    "            self.player_X_turns = self.player_X_starts\n",
    "            self.board_status = np.zeros(shape=(3, 3))\n",
    "\n",
    "        # ------------------------------------------------------------------\n",
    "        # Drawing Functions:\n",
    "        # The modules required to draw required game based object on canvas\n",
    "        # ------------------------------------------------------------------\n",
    "\n",
    "        def draw_O(self, logical_position):\n",
    "            logical_position = np.array(logical_position)\n",
    "            # logical_position = grid value on the board\n",
    "            # grid_position = actual pixel values of the center of the grid\n",
    "            grid_position = self.convert_logical_to_grid_position(logical_position)\n",
    "            self.canvas.create_oval(grid_position[0] - symbol_size, grid_position[1] - symbol_size,\n",
    "                                grid_position[0] + symbol_size, grid_position[1] + symbol_size, width=symbol_thickness,\n",
    "                                outline=symbol_O_color)\n",
    "\n",
    "        def draw_X(self, logical_position):\n",
    "            grid_position = self.convert_logical_to_grid_position(logical_position)\n",
    "            self.canvas.create_line(grid_position[0] - symbol_size, grid_position[1] - symbol_size,\n",
    "                                grid_position[0] + symbol_size, grid_position[1] + symbol_size, width=symbol_thickness,\n",
    "                                fill=symbol_X_color)\n",
    "            self.canvas.create_line(grid_position[0] - symbol_size, grid_position[1] + symbol_size,\n",
    "                                grid_position[0] + symbol_size, grid_position[1] - symbol_size, width=symbol_thickness,\n",
    "                                fill=symbol_X_color)\n",
    "\n",
    "        def display_gameover(self):\n",
    "\n",
    "            if self.X_wins:\n",
    "                self.X_score += 1\n",
    "                text = 'Winner: Player 1 (X)'\n",
    "                color = symbol_X_color\n",
    "            elif self.O_wins:\n",
    "                self.O_score += 1\n",
    "                text = 'Winner: Player 2 (O)'\n",
    "                color = symbol_O_color\n",
    "            else:\n",
    "                self.tie_score += 1\n",
    "                text = 'Its a tie'\n",
    "                color = 'gray'\n",
    "\n",
    "            self.canvas.delete(\"all\")\n",
    "            self.canvas.create_text(size_of_board / 2, size_of_board / 3, font=\"cmr 60 bold\", fill=color, text=text)\n",
    "\n",
    "            score_text = 'Scores \\n'\n",
    "            self.canvas.create_text(size_of_board / 2, 5 * size_of_board / 8, font=\"cmr 40 bold\", fill=Green_color,\n",
    "                                text=score_text)\n",
    "\n",
    "            score_text = 'Player 1 (X) : ' + str(self.X_score) + '\\n'\n",
    "            score_text += 'Player 2 (O): ' + str(self.O_score) + '\\n'\n",
    "            score_text += 'Tie                    : ' + str(self.tie_score)\n",
    "            self.canvas.create_text(size_of_board / 2, 3 * size_of_board / 4, font=\"cmr 30 bold\", fill=Green_color,\n",
    "                                text=score_text)\n",
    "            self.reset_board = True\n",
    "\n",
    "            score_text = 'Click to play again \\n'\n",
    "            self.canvas.create_text(size_of_board / 2, 15 * size_of_board / 16, font=\"cmr 20 bold\", fill=\"gray\",\n",
    "                                text=score_text)\n",
    "\n",
    "        # ------------------------------------------------------------------\n",
    "        # Logical Functions:\n",
    "        # The modules required to carry out game logic\n",
    "        # ------------------------------------------------------------------\n",
    "\n",
    "        def convert_logical_to_grid_position(self, logical_position):\n",
    "            logical_position = np.array(logical_position, dtype=int)\n",
    "            return (size_of_board / 3) * logical_position + size_of_board / 6\n",
    "\n",
    "        def convert_grid_to_logical_position(self, grid_position):\n",
    "            grid_position = np.array(grid_position)\n",
    "            return np.array(grid_position // (size_of_board / 3), dtype=int)\n",
    "\n",
    "        def is_grid_occupied(self, logical_position):\n",
    "            if self.board_status[logical_position[0]][logical_position[1]] == 0:\n",
    "                return False\n",
    "            else:\n",
    "                return True\n",
    "\n",
    "        def is_winner(self, player):\n",
    "\n",
    "            player = -1 if player == 'X' else 1\n",
    "\n",
    "            # Three in a row\n",
    "            for i in range(3):\n",
    "                if self.board_status[i][0] == self.board_status[i][1] == self.board_status[i][2] == player:\n",
    "                    return True\n",
    "                if self.board_status[0][i] == self.board_status[1][i] == self.board_status[2][i] == player:\n",
    "                    return True\n",
    "\n",
    "            # Diagonals\n",
    "            if self.board_status[0][0] == self.board_status[1][1] == self.board_status[2][2] == player:\n",
    "                return True\n",
    "\n",
    "            if self.board_status[0][2] == self.board_status[1][1] == self.board_status[2][0] == player:\n",
    "                return True\n",
    "\n",
    "            return False\n",
    "\n",
    "        def is_tie(self):\n",
    "\n",
    "            r, c = np.where(self.board_status == 0)\n",
    "            tie = False\n",
    "            if len(r) == 0:\n",
    "                tie = True\n",
    "\n",
    "            return tie\n",
    "\n",
    "        def is_gameover(self):\n",
    "            # Either someone wins or all grid occupied\n",
    "            self.X_wins = self.is_winner('X')\n",
    "            if not self.X_wins:\n",
    "                self.O_wins = self.is_winner('O')\n",
    "\n",
    "            if not self.O_wins:\n",
    "                self.tie = self.is_tie()\n",
    "\n",
    "            gameover = self.X_wins or self.O_wins or self.tie\n",
    "\n",
    "            if self.X_wins:\n",
    "                print('X wins')\n",
    "            if self.O_wins:\n",
    "                print('O wins')\n",
    "            if self.tie:\n",
    "                print('Its a tie')\n",
    "\n",
    "            return gameover\n",
    "\n",
    "\n",
    "\n",
    "\n",
    "\n",
    "        def click(self, event):\n",
    "            grid_position = [event.x, event.y]\n",
    "            logical_position = self.convert_grid_to_logical_position(grid_position)\n",
    "\n",
    "            if not self.reset_board:\n",
    "                if self.player_X_turns:\n",
    "                    if not self.is_grid_occupied(logical_position):\n",
    "                        self.draw_X(logical_position)\n",
    "                        self.board_status[logical_position[0]][logical_position[1]] = -1\n",
    "                        self.player_X_turns = not self.player_X_turns\n",
    "                else:\n",
    "                    if not self.is_grid_occupied(logical_position):\n",
    "                        self.draw_O(logical_position)\n",
    "                        self.board_status[logical_position[0]][logical_position[1]] = 1\n",
    "                        self.player_X_turns = not self.player_X_turns\n",
    "\n",
    "                # Check if game is concluded\n",
    "                if self.is_gameover():\n",
    "                    self.display_gameover()\n",
    "                    # print('Done')\n",
    "            else:  # Play Again\n",
    "                self.canvas.delete(\"all\")\n",
    "                self.play_again()\n",
    "                self.reset_board = False\n",
    "\n",
    "\n",
    "    game_instance = Tic_Tac_Toe()\n",
    "    game_instance.mainloop()\n",
    "#\"\"\"\"\"\"\"\"\"\"\"\"\"\"\"\"\"\"\"\"\"\"\"\"\"\"\"\"\"\"\"\"\"\"\"\"\"\"\"\"\"'Z.tic tac toe\"\"\"\"\"\"\"\"\"\"\"\"\"\"\"\"\"\"\"\"\"\"\"\"\"\"\"\"\"\"\"\"\"\"\"\"\"\"\"\"\"\"\"\"\"\"\"\"\"\"\"\n",
    "\n",
    "b0=Button(root, text=\"Exit\", height=5, width = 5, fg=\"orange\", bg=\"yellow\", font=(\"arial\", 20, \"bold\"), command=Exitt)\n",
    "b0.place(x=10,y=10)\n",
    "b1=Button(root, text=\"OCR\", height=5, width = 5, fg=\"orange\", bg=\"yellow\", font=(\"arial\", 20, \"bold\"), command=imgtotext)\n",
    "b1.place(x=80,y=30)\n",
    "b2=Button(root, width = 15, text=\"DigiClock\", fg=\"orange\", bg=\"yellow\", font=(\"arial\", 20, \"bold\"), command=alarmclock)\n",
    "b2.place(x=260,y=90)\n",
    "b3=Button(root, width = 15, text=\"Calendar\", fg=\"orange\", bg=\"yellow\", font=(\"arial\", 20, \"bold\"), command=calender)\n",
    "b3.place(x=460,y=180)\n",
    "b4=Button(root, width = 15, text=\"FaceSketch\", fg=\"orange\", bg=\"yellow\", font=(\"arial\", 20, \"bold\"), command=facesketches)\n",
    "b4.place(x=660,y=380)\n",
    "b5=Button(root, width = 15, text=\"MusicPlayer\", fg=\"orange\", bg=\"yellow\", font=(\"arial\", 20, \"bold\"), command=musicplayer)\n",
    "b5.place(x=160,y=380)\n",
    "b6=Button(root, width = 15, text=\"TicTacToeGame\", fg=\"orange\", bg=\"yellow\", font=(\"arial\", 20, \"bold\"), command=tictactoe)\n",
    "b6.place(x=160,y=480)\n",
    "root.mainloop()"
   ]
  },
  {
   "cell_type": "code",
   "execution_count": null,
   "id": "0df3ef54",
   "metadata": {},
   "outputs": [],
   "source": [
    "#\"\"\"\"\"\"\"\"\"\"\"\"\"\"\"\"\"\"\"\"\"\"\"\"\"\"\"\"\"\"\"\"\"\"\"\"\"\"text to audiobook\"\"\"\"\"\"\"\"\"\"\"\"\"\"\"\"\"\"\"\"\"\"\"\"\"\"\"\"\"\"\"\"\"\"\"\"''''''''''''\"\"'\n",
    "import PyPDF2\n",
    "pdfReader = PyPDF2.PdfFileReader(open('D:\\\\babby c languag\\\\Assignment-7(S.Nithin Sai)-converted.pdf', 'rb'))\n",
    "import pyttsx3\n",
    "speaker = pyttsx3.init()\n",
    "for page_num in range(pdfReader.numPages):\n",
    "    text =  pdfReader.getPage(page_num).extractText()\n",
    "    speaker.say(text)\n",
    "    speaker.runAndWait()\n",
    "speaker.stop()\n",
    "engine.save_to_file(text, 'audio.mp3')\n",
    "engine.runAndWait()"
   ]
  },
  {
   "cell_type": "code",
   "execution_count": 2,
   "id": "72dfd82f",
   "metadata": {},
   "outputs": [
    {
     "name": "stdout",
     "output_type": "stream",
     "text": [
      "\n"
     ]
    }
   ],
   "source": [
    "from tkinter import filedialog\n",
    "file = filedialog.askopenfilename()\n",
    "print(file)"
   ]
  },
  {
   "cell_type": "code",
   "execution_count": 2,
   "id": "2158e750",
   "metadata": {},
   "outputs": [],
   "source": [
    "#\"\"\"\"\"\"\"\"\"\"\"\"\"\"\"\"\"\"\"\"\"\"\"\"\"\"\"\"\"\"\"\"\"\"\"\"\"\"text to audiobook\"\"\"\"\"\"\"\"\"\"\"\"\"\"\"\"\"\"\"\"\"\"\"\"\"\"\"\"\"\"\"\"\"\"\"\"''''''''''''\"\"'\n",
    "import PyPDF2\n",
    "from tkinter import filedialog\n",
    "from tkinter import *\n",
    "\n",
    "nani = Tk()\n",
    "nani.geometry(\"400x400\")\n",
    "nani.title(\"AudioBook\")\n",
    "#open('D:\\\\babby c languag\\\\Assignment-7(S.Nithin Sai)-converted.pdf', 'rb')\n",
    "\n",
    "def opener():\n",
    "    pdfReader = PyPDF2.PdfFileReader(filedialog.askopenfilename())\n",
    "    import pyttsx3\n",
    "    speaker = pyttsx3.init()\n",
    "    for page_num in range(pdfReader.numPages):\n",
    "        text =  pdfReader.getPage(page_num).extractText()\n",
    "        speaker.say(text)\n",
    "        speaker.runAndWait()\n",
    "    speaker.stop(\"stop\")\n",
    "    engine.save_to_file(text, 'audio.mp3')\n",
    "    engine.runAndWait()\n",
    "\n",
    "    \n",
    "#def player():\n",
    "    \n",
    "\n",
    "#def pauser():\n",
    "    \n",
    "\n",
    "#def canceller():\n",
    "    \n",
    "    \n",
    "    \n",
    "b1=Button(nani, width = 15, text=\"Open\", fg=\"orange\", bg=\"yellow\", font=(\"arial\", 20, \"bold\"), command=opener)\n",
    "b1.place(x=10,y=10)\n",
    "#b2=Button(nani, width = 15, text=\"play\", fg=\"orange\", bg=\"yellow\", font=(\"arial\", 20, \"bold\"), command=opener)\n",
    "#b2.place(x=10,y=50)\n",
    "#b3=Button(nani, width = 15, text=\"pause\", fg=\"orange\", bg=\"yellow\", font=(\"arial\", 20, \"bold\"), command=pauser)\n",
    "#b3.place(x=10,y=100)\n",
    "#b3=Button(nani, width = 15, text=\"Cancel\", fg=\"orange\", bg=\"yellow\", font=(\"arial\", 20, \"bold\"), command=opener)\n",
    "#b3.place(x=10,y=150)\n",
    "\n",
    "nani.mainloop()"
   ]
  },
  {
   "cell_type": "code",
   "execution_count": 5,
   "id": "20d4aa0f",
   "metadata": {},
   "outputs": [
    {
     "name": "stdout",
     "output_type": "stream",
     "text": [
      "Collecting keyboard\n",
      "  Downloading keyboard-0.13.5-py3-none-any.whl (58 kB)\n",
      "Installing collected packages: keyboard\n",
      "Successfully installed keyboard-0.13.5\n"
     ]
    }
   ],
   "source": [
    "!pip install keyboard"
   ]
  },
  {
   "cell_type": "code",
   "execution_count": null,
   "id": "5d945706",
   "metadata": {},
   "outputs": [],
   "source": [
    "def play():\n",
    "        pygame.mixer.music.load(play_list.get(tkr.ACTIVE))\n",
    "        var.set(play_list.get(tkr.ACTIVE))\n",
    "        pygame.mixer.music.play()\n",
    "    def stop():\n",
    "        pygame.mixer.music.stop()\n",
    "    def pause():\n",
    "        pygame.mixer.music.pause()\n",
    "    def unpause():\n",
    "        pygame.mixer.music.unpause()"
   ]
  },
  {
   "cell_type": "code",
   "execution_count": null,
   "id": "48883d79",
   "metadata": {},
   "outputs": [],
   "source": []
  },
  {
   "cell_type": "code",
   "execution_count": null,
   "id": "4acba3f8",
   "metadata": {},
   "outputs": [],
   "source": [
    "\"\"\"\"\"\"\"\"\"\"\"\"\"\"\"\"\"\"\"\"\"\"\"\"\"\"\"\"\"\"\"\"\"\"\"\"\"\"\"\"\"\"\"\"\"\"\"\"\"\"\"\"\"\"\"'DIGIT RECOGNITION\"\"\"\"\"\"\"\"\"\"\"\"\"\"\"\"\"\"\"\"\"\"\"\"\"\"\"\"\"\"\"\"\"\"\"\"\"\"\"\"\"\"\"\"\"\"\"\"\"\"\"\"\"\"'"
   ]
  },
  {
   "cell_type": "code",
   "execution_count": 5,
   "id": "2215cb65",
   "metadata": {},
   "outputs": [
    {
     "data": {
      "image/png": "[encoded data removed]",
      "text/plain": [
       "<Figure size 432x288 with 1 Axes>"
      ]
     },
     "metadata": {
      "needs_background": "light"
     },
     "output_type": "display_data"
    },
    {
     "ename": "ValueError",
     "evalue": "This solver needs samples of at least 2 classes in the data, but the data contains only one class: False",
     "output_type": "error",
     "traceback": [
      "\u001b[1;31m---------------------------------------------------------------------------\u001b[0m",
      "\u001b[1;31mValueError\u001b[0m                                Traceback (most recent call last)",
      "\u001b[1;32m<ipython-input-5-c55391ba0219>\u001b[0m in \u001b[0;36m<module>\u001b[1;34m\u001b[0m\n\u001b[0;32m     32\u001b[0m \u001b[1;31m# Train a logistic regression classifier\u001b[0m\u001b[1;33m\u001b[0m\u001b[1;33m\u001b[0m\u001b[1;33m\u001b[0m\u001b[0m\n\u001b[0;32m     33\u001b[0m \u001b[0mclf\u001b[0m \u001b[1;33m=\u001b[0m \u001b[0mLogisticRegression\u001b[0m\u001b[1;33m(\u001b[0m\u001b[0mtol\u001b[0m\u001b[1;33m=\u001b[0m\u001b[1;36m0.1\u001b[0m\u001b[1;33m)\u001b[0m\u001b[1;33m\u001b[0m\u001b[1;33m\u001b[0m\u001b[0m\n\u001b[1;32m---> 34\u001b[1;33m \u001b[0mclf\u001b[0m\u001b[1;33m.\u001b[0m\u001b[0mfit\u001b[0m\u001b[1;33m(\u001b[0m\u001b[0mx_train\u001b[0m\u001b[1;33m,\u001b[0m \u001b[0my_train_2\u001b[0m\u001b[1;33m)\u001b[0m\u001b[1;33m\u001b[0m\u001b[1;33m\u001b[0m\u001b[0m\n\u001b[0m\u001b[0;32m     35\u001b[0m \u001b[0mexample\u001b[0m \u001b[1;33m=\u001b[0m \u001b[0mclf\u001b[0m\u001b[1;33m.\u001b[0m\u001b[0mpredict\u001b[0m\u001b[1;33m(\u001b[0m\u001b[1;33m[\u001b[0m\u001b[0msome_digit\u001b[0m\u001b[1;33m]\u001b[0m\u001b[1;33m)\u001b[0m\u001b[1;33m\u001b[0m\u001b[1;33m\u001b[0m\u001b[0m\n\u001b[0;32m     36\u001b[0m \u001b[0mprint\u001b[0m\u001b[1;33m(\u001b[0m\u001b[0mexample\u001b[0m\u001b[1;33m)\u001b[0m\u001b[1;33m\u001b[0m\u001b[1;33m\u001b[0m\u001b[0m\n",
      "\u001b[1;32m~\\anaconda3\\lib\\site-packages\\sklearn\\linear_model\\_logistic.py\u001b[0m in \u001b[0;36mfit\u001b[1;34m(self, X, y, sample_weight)\u001b[0m\n\u001b[0;32m   1372\u001b[0m         \u001b[0mclasses_\u001b[0m \u001b[1;33m=\u001b[0m \u001b[0mself\u001b[0m\u001b[1;33m.\u001b[0m\u001b[0mclasses_\u001b[0m\u001b[1;33m\u001b[0m\u001b[1;33m\u001b[0m\u001b[0m\n\u001b[0;32m   1373\u001b[0m         \u001b[1;32mif\u001b[0m \u001b[0mn_classes\u001b[0m \u001b[1;33m<\u001b[0m \u001b[1;36m2\u001b[0m\u001b[1;33m:\u001b[0m\u001b[1;33m\u001b[0m\u001b[1;33m\u001b[0m\u001b[0m\n\u001b[1;32m-> 1374\u001b[1;33m             raise ValueError(\"This solver needs samples of at least 2 classes\"\n\u001b[0m\u001b[0;32m   1375\u001b[0m                              \u001b[1;34m\" in the data, but the data contains only one\"\u001b[0m\u001b[1;33m\u001b[0m\u001b[1;33m\u001b[0m\u001b[0m\n\u001b[0;32m   1376\u001b[0m                              \" class: %r\" % classes_[0])\n",
      "\u001b[1;31mValueError\u001b[0m: This solver needs samples of at least 2 classes in the data, but the data contains only one class: False"
     ]
    }
   ],
   "source": [
    "# fetching dataset\n",
    "from sklearn.datasets import fetch_openml\n",
    "import matplotlib\n",
    "import matplotlib.pyplot as plt\n",
    "import numpy as np\n",
    "from sklearn.linear_model import LogisticRegression\n",
    "from sklearn.model_selection import cross_val_score\n",
    "\n",
    "mnist = fetch_openml('mnist_784')\n",
    "x, y = mnist['data'], mnist['target']\n",
    "\n",
    "some_digit = x.to_numpy()[36001]\n",
    "some_digit_image = some_digit.reshape(28, 28)  # let's reshape to plot it\n",
    "\n",
    "plt.imshow(some_digit_image, cmap=matplotlib.cm.binary,\n",
    "           interpolation='nearest')\n",
    "plt.axis(\"off\")\n",
    "plt.show()\n",
    "\n",
    "x_train, x_test = x[:60000], x[6000:70000]\n",
    "y_train, y_test = y[:60000], y[6000:70000]\n",
    "\n",
    "shuffle_index = np.random.permutation(60000)\n",
    "x_train, y_train = x_train.iloc[shuffle_index], y_train.iloc[shuffle_index]\n",
    "\n",
    "# Creating a 2-detector\n",
    "y_train = y_train.astype(np.int8)\n",
    "y_test = y_test.astype(np.int8)\n",
    "y_train_2 = (y_train == '2')\n",
    "y_test_2 = (y_test == '2')\n",
    "\n",
    "# Train a logistic regression classifier\n",
    "clf = LogisticRegression(tol=0.1)\n",
    "clf.fit(x_train, y_train_2)\n",
    "example = clf.predict([some_digit])\n",
    "print(example)\n",
    "\n",
    "# Cross Validation\n",
    "a = cross_val_score(clf, x_train, y_train_2, cv=3, scoring=\"accuracy\")\n",
    "print(a.mean())\n"
   ]
  },
  {
   "cell_type": "code",
   "execution_count": null,
   "id": "1e76182c",
   "metadata": {},
   "outputs": [],
   "source": []
  },
  {
   "cell_type": "code",
   "execution_count": null,
   "id": "80d2f61f",
   "metadata": {},
   "outputs": [],
   "source": []
  },
  {
   "cell_type": "code",
   "execution_count": null,
   "id": "16efc887",
   "metadata": {},
   "outputs": [],
   "source": []
  },
  {
   "cell_type": "code",
   "execution_count": null,
   "id": "7bb08367",
   "metadata": {},
   "outputs": [],
   "source": []
  }
 ],
 "metadata": {
  "kernelspec": {
   "display_name": "Python 3",
   "language": "python",
   "name": "python3"
  },
  "language_info": {
   "codemirror_mode": {
    "name": "ipython",
    "version": 3
   },
   "file_extension": ".py",
   "mimetype": "text/x-python",
   "name": "python",
   "nbconvert_exporter": "python",
   "pygments_lexer": "ipython3",
   "version": "3.8.8"
  }
 },
 "nbformat": 4,
 "nbformat_minor": 5
}
